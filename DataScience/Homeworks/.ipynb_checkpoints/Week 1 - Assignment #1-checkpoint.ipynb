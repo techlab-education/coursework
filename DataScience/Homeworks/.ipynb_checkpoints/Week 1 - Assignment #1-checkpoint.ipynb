{
 "cells": [
  {
   "cell_type": "markdown",
   "metadata": {},
   "source": [
    "# Help the Poor Data Scientists (Data Sampling)"
   ]
  },
  {
   "cell_type": "markdown",
   "metadata": {},
   "source": [
    "* __Concept Learning Goals__:\n",
    "    * This assignment's purpose is to show the relationships between data samples and their populations. Using the given dataset as the population data, you will perform a series of tasks that allow you to learn the dos and don'ts of data collections. \n",
    "\n",
    "* __Background__:\n",
    "    * In the real world, Data Scientists often do not have control over the data collection process. Most of the time, their analytical journey starts with a given dataset. Errors in data collections may cripple the Data Scientists' abilities before they even begin the work. With a correct understanding of the right way to collect data, you will be able to help design the data collection process and more likely to detect data collection errors. \n",
    "\n",
    "* __Technical Learning Goals__:\n",
    "    * Pandas: loading data from CSV into a panda DataFrame\n",
    "    * Pandas: the basic tasks you can do with a panda DataFrame\n",
    "    * Matplotlib: how to plot a histogram + adding the right labels\n",
    "    * Python: how to randomly sample using package random\n",
    "    \n",
    "* __Data__:\n",
    "    * File name: 500_Person_Gender_Height_Weight_Index.csv\n",
    "    * Source: Kaggle\n",
    "    * Data Background:\n",
    "        * https://www.kaggle.com/yersever/500-person-gender-height-weight-bodymassindex\n",
    "        \n",
    "* __Functions/Objects__:\n",
    "    * Students are welcomed/encouraged to organize their code via function/objects. If you find that you are repeating certain codes. You should write functions/objects to organize your codes better.\n",
    "    * Feel free to put these repeated tasks/functions as utils (for those who don't know what this means, feel free to reach out to Eric)"
   ]
  },
  {
   "cell_type": "markdown",
   "metadata": {},
   "source": [
    "# Functions + Objects:"
   ]
  },
  {
   "cell_type": "code",
   "execution_count": 1,
   "metadata": {},
   "outputs": [],
   "source": [
    "# you can put your functions + objects here (or in the utils)..."
   ]
  },
  {
   "cell_type": "markdown",
   "metadata": {},
   "source": [
    "# Problem #1:"
   ]
  },
  {
   "cell_type": "markdown",
   "metadata": {},
   "source": [
    "* Task #1: Load the data from csv into a panda DataFrame"
   ]
  },
  {
   "cell_type": "code",
   "execution_count": 2,
   "metadata": {},
   "outputs": [],
   "source": [
    "# import pandas as a package here:\n",
    "import pandas as pd\n",
    "# path to the data:\n",
    "data_path = '/home/jupyter-admin-eric/Data'\n",
    "# file name:\n",
    "file_name = '500_Person_Gender_Height_Weight_Index.csv'\n",
    "# answer starts here...\n",
    "\n",
    "\n",
    "\n",
    "\n"
   ]
  },
  {
   "cell_type": "markdown",
   "metadata": {},
   "source": [
    "# Problem 2:"
   ]
  },
  {
   "cell_type": "markdown",
   "metadata": {},
   "source": [
    "* __Task #1__: Print how many rows/columns you have from the above DataFrame\n",
    "* __Task #2__: Print the column names\n",
    "* __Task #3__: Change all column names to upper case str\n",
    "* __Task #4__: Check/print the data types of each column\n",
    "* __Task #5__: Change the column 'HEIGHT's data type to float\n",
    "* __Task #6__: Calculate the mean for columns 'HEIGHT' and 'WEIGHT'"
   ]
  },
  {
   "cell_type": "code",
   "execution_count": 3,
   "metadata": {},
   "outputs": [],
   "source": [
    "# answer starts here...\n",
    "\n",
    "\n",
    "\n",
    "\n"
   ]
  },
  {
   "cell_type": "markdown",
   "metadata": {},
   "source": [
    "# Problem #3: "
   ]
  },
  {
   "cell_type": "markdown",
   "metadata": {},
   "source": [
    "* __Task #1__: Plot a histogram of the column 'HIEHGT'\n",
    "* __Task #2__: In your histogram, label the x/y axis properly\n",
    "* __Task #3__: In your histogram, add an appropriate title\n",
    "* __Task #4__: For your histogram, change the \"bins\" to a larger number.\n",
    "    * Question: How does it look different from the original diagram?\n",
    "* __Task #5__: For your histogram, change the \"bins\" to a smaller number.\n",
    "    * Question: How does it look different from the original diagram/diagram with a larger bin number?\n",
    "    * Question: What is the most appropriate \"bins\" number for this graph? Why?"
   ]
  },
  {
   "cell_type": "code",
   "execution_count": 4,
   "metadata": {},
   "outputs": [],
   "source": [
    "# import matplotlib package here:\n",
    "import matplotlib.pyplot as plt\n",
    "# this line below allows the plot to be display in the notebook:\n",
    "%matplotlib inline\n",
    "# answer starts here...\n",
    "\n",
    "\n",
    "\n",
    "\n"
   ]
  },
  {
   "cell_type": "markdown",
   "metadata": {},
   "source": [
    "# Problem #4:"
   ]
  },
  {
   "cell_type": "markdown",
   "metadata": {},
   "source": [
    "* __Task #1__: Create a list from the \"HEIGHT\" column of the DataFrame\n",
    "* __Task #2__: Randomly sample 5 data points from the list and store the result as a list (use random.sample() method)\n",
    "* __Task #3__: Create a new panda DataFrame with the new sample data with proper column name(s)\n",
    "* __Task #4__: Plot the new sample data (\"HEIGHT\") as a histogram with proper labeling similar to problem #3\n",
    "    * Questions: comparing the sample histogram and the population histogram (original DataFrame), what are the similarities, what are the differences? \n",
    "* __Task #5__: For 'HEIGHT,' what is the mean of this new sample? How does it compare with the population mean? \n",
    "* __Task #6__: Re-run Task #2 to #5 with new random samples (do it __50__ times). For each run, record the sample mean of \"HEIGHT\" as an element in a list (final list should have 50 elements).\n",
    "* __Task 7__: In terms of \"HEIGHT\", plot the recorded means as a histogram.\n",
    "    * Questions: What does it look like? How far are the sample means apart from the population mean? What is the mean of these sample means?"
   ]
  },
  {
   "cell_type": "code",
   "execution_count": 5,
   "metadata": {},
   "outputs": [],
   "source": [
    "# import the random package here:\n",
    "import random\n",
    "# Note: use this method to sample: random.sample(population, k)\n",
    "# for more information, read here:\n",
    "# https://pynative.com/python-random-sample/\n",
    "# answer starts here...\n",
    "\n",
    "\n",
    "\n",
    "\n"
   ]
  },
  {
   "cell_type": "markdown",
   "metadata": {},
   "source": [
    "# Problem #5:"
   ]
  },
  {
   "cell_type": "markdown",
   "metadata": {},
   "source": [
    "* __Task__: Redo problem #4 but this time with sample sizes of 15.\n",
    "* __Question__: How are the results different from Problem #4, in terms of the histograms and sample means? How far off are the sample means away from population mean?"
   ]
  },
  {
   "cell_type": "code",
   "execution_count": 6,
   "metadata": {},
   "outputs": [],
   "source": [
    "# answer starts here...\n",
    "\n",
    "\n",
    "\n",
    "\n"
   ]
  },
  {
   "cell_type": "markdown",
   "metadata": {},
   "source": [
    "# Problem #6:"
   ]
  },
  {
   "cell_type": "markdown",
   "metadata": {},
   "source": [
    "* __Task__: Redo problem #4 but this time with sample sizes of 30.\n",
    "* __Question__: How are the results different from Problem #4 and #5, in terms of the histograms and sample means? How far off are the sample means away from population mean?"
   ]
  },
  {
   "cell_type": "code",
   "execution_count": 7,
   "metadata": {},
   "outputs": [],
   "source": [
    "# answer starts here...\n",
    "\n",
    "\n",
    "\n",
    "\n"
   ]
  },
  {
   "cell_type": "markdown",
   "metadata": {},
   "source": [
    "# Problem #7:"
   ]
  },
  {
   "cell_type": "markdown",
   "metadata": {},
   "source": [
    "* __Task__: Redo problem #4 but this time with sample sizes of 15.\n",
    "* __Question__: How are the results different from Problem #4, #5, and #6, in terms of the histograms and sample means? How far off are the sample means away from population mean?\n",
    "* __Question__: From problems 4~7, which sample size has the sample means closet to the population mean? At which sample size, does the sample means starting to get closer to the population mean?"
   ]
  },
  {
   "cell_type": "code",
   "execution_count": 8,
   "metadata": {},
   "outputs": [],
   "source": [
    "# answer starts here...\n",
    "\n",
    "\n",
    "\n",
    "\n"
   ]
  },
  {
   "cell_type": "markdown",
   "metadata": {},
   "source": [
    "# Problem #8:"
   ]
  },
  {
   "cell_type": "markdown",
   "metadata": {},
   "source": [
    "* __Task #1__: Make two DataFrames from the original DataFrame — one with just the Male rows and another with only the Female rows.\n",
    "* __Task #2__: Plot a histogram on \"HEIGHT\" with proper labeling (similar to Problem #3) with the Male DataFrame. Calculate the mean.\n",
    "* __Task #3__: Plot a histogram on \"HEIGHT\" with proper labeling (similar to Problem #3) with the Female DataFrame. Calculate the mean.\n",
    "    * How are the two histogram different? How are the means different?"
   ]
  },
  {
   "cell_type": "code",
   "execution_count": 9,
   "metadata": {},
   "outputs": [],
   "source": [
    "# answer starts here...\n",
    "\n",
    "\n",
    "\n",
    "\n"
   ]
  }
 ],
 "metadata": {
  "kernelspec": {
   "display_name": "Python 3",
   "language": "python",
   "name": "python3"
  },
  "language_info": {
   "codemirror_mode": {
    "name": "ipython",
    "version": 3
   },
   "file_extension": ".py",
   "mimetype": "text/x-python",
   "name": "python",
   "nbconvert_exporter": "python",
   "pygments_lexer": "ipython3",
   "version": "3.7.7"
  }
 },
 "nbformat": 4,
 "nbformat_minor": 4
}
