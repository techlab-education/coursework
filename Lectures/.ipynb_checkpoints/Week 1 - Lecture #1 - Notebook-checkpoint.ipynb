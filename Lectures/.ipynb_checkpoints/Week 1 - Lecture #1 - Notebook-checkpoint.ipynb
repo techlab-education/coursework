{
 "cells": [
  {
   "cell_type": "markdown",
   "metadata": {},
   "source": [
    "# 2nd Hour: Tech Stack Intro"
   ]
  },
  {
   "cell_type": "markdown",
   "metadata": {},
   "source": [
    "## I. Tools/file types that we will be using:\n",
    "\n",
    "* Coding Language: __python__\n",
    "    * Reference: https://learnpythonthehardway.org/book/\n",
    "* Interactive Computational Environment: __Jupyter Notebook__\n",
    "* Data File: __CSV__\n",
    "* Version Control Tool: __git__\n",
    "* Python Package Installer: __pip__"
   ]
  },
  {
   "cell_type": "markdown",
   "metadata": {},
   "source": [
    "## II. installing python packages via pip:\n",
    "\n",
    "\n",
    "Throughout the course, we will be using popular python packages such as __pandas__, __NumPy__, __matplotlib__, statsmodels, scipy, and sklearn (bolded = packages that we will be using today). You can install these packages on the server running behind your JupyterHub account via __pip__ in the terminal of JupyterHub.\n",
    "\n",
    "Open up the terminal on JupyterHub:\n",
    "<img src=\"images/opening_up_terminal.png\" alt=\"Drawing\" style=\"width: 500px;\"/>\n",
    "The terminal will open up on the browser (i.e., Chrome) like this:\n",
    "<img src=\"images/terminal_look.png\" alt=\"Drawing\" style=\"width: 500px;\"/>\n",
    "Pip install the package (i.e. pandas) with command __pip install package_name__:\n",
    "<img src=\"images/pip_intall_ex.png\" alt=\"Drawing\" style=\"width: 500px;\"/>"
   ]
  },
  {
   "cell_type": "markdown",
   "metadata": {},
   "source": [
    "## III. Intro to Jupyter Notebook:"
   ]
  },
  {
   "cell_type": "markdown",
   "metadata": {},
   "source": [
    "### 1. What is Jupyter Notebook?\n",
    "\n",
    "For this course, we will be using Jupyter Notebooks to format and run our code. Jupyter Notebook provides a Python environment that you can interact with.  This means that you can run all of the code examples you find below, and even create your own code to try things out — in fact, you are highly encouraged to do so.\n",
    "\n",
    "### 2. Running Programs in Jupyter Notebook\n",
    "To run a program press the Run button above, or press  **shift**  then press  **enter** .\n",
    "\n",
    "***Try running the cell below!***"
   ]
  },
  {
   "cell_type": "code",
   "execution_count": 1,
   "metadata": {},
   "outputs": [
    {
     "name": "stdout",
     "output_type": "stream",
     "text": [
      "Hello World\n"
     ]
    }
   ],
   "source": [
    "print(\"Hello World\")"
   ]
  },
  {
   "cell_type": "markdown",
   "metadata": {},
   "source": [
    "### 3. Code blocks\n",
    "There are 3 different types of code blocks: **code**, **markdown**, and **raw**"
   ]
  },
  {
   "cell_type": "markdown",
   "metadata": {},
   "source": [
    "#### code block:"
   ]
  },
  {
   "cell_type": "code",
   "execution_count": 2,
   "metadata": {},
   "outputs": [
    {
     "name": "stdout",
     "output_type": "stream",
     "text": [
      "I am a code block!\n"
     ]
    }
   ],
   "source": [
    "#this is a code block\n",
    "print(\"I am a code block!\")"
   ]
  },
  {
   "cell_type": "markdown",
   "metadata": {},
   "source": [
    "#### markdown block:"
   ]
  },
  {
   "cell_type": "markdown",
   "metadata": {},
   "source": [
    "This is a markdown block! \n",
    "\n",
    "All of the text you see in this notebook was written with the second type of block we mentioned: **markdown blocks**. These blocks allow you to write formatted text with a simple markdown language called, well, [Markdown](https://en.wikipedia.org/wiki/Markdown). You can also double-click any of the text blocks in this document, **like this one**, to see the markdown \"source\" code that produced it. Just **run** it to render it again."
   ]
  },
  {
   "cell_type": "markdown",
   "metadata": {},
   "source": [
    "#### raw block:"
   ]
  },
  {
   "cell_type": "raw",
   "metadata": {},
   "source": [
    "This is a raw text block!\n",
    "\n",
    "        Everything is \n",
    "        formatted exactly as written."
   ]
  },
  {
   "cell_type": "markdown",
   "metadata": {},
   "source": [
    "## IV. Python Review (Optional):\n",
    "\n",
    "Python is a prerequisite for this course.  We won't be reviewing basic Python concepts, but everything we do in this course depends on a solid understanding of Python. Trying to do Data Science without fluent Python is like writing English poetry without fluent English. __Week 0 - Python Review - Notebook.ipynb__, a Jupyter Notebook in location __/coursework/Lectures__, is a useful review."
   ]
  },
  {
   "cell_type": "markdown",
   "metadata": {},
   "source": [
    "## V. Pandas Intro:\n",
    "\n",
    "Pandas, a Python package, is a data analysis and manipulation tool. Think of it as an easier to use Pythonic SQL query with more functions. \n",
    "\n",
    "What Pandas is suitable for:\n",
    "* __Analyzing datasets up to a couple of Gigabytes__ (for more massive datasets, one will need to get creative when using pandas; usually via better data engineering pipeline)\n",
    "* Complex/fast __data transformation__\n",
    "* Very __compatible with other data science Python packages__ such as sklearn/matplotlib.\n",
    "\n",
    "Today, we will use __New York State's nursing home weekly bed census data__ to explore some of Pandas's powerful capabilities. More details about the dataset:\n",
    "* https://health.data.ny.gov/Health/Nursing-Home-Weekly-Bed-Census-Beginning-2009/uhyy-xp9s?\n",
    "* location of the data: __/coursework/Data/beds.csv__\n",
    "\n",
    "Useful Pandas Functions as reference:\n",
    "<img src=\"images/pandas_commands_1.png\" alt=\"Drawing\" style=\"width: 500px;\"/>\n",
    "<img src=\"images/pandas_commands_2.png\" alt=\"Drawing\" style=\"width: 500px;\"/>\n",
    "<img src=\"images/pandas_commands_3.png\" alt=\"Drawing\" style=\"width: 500px;\"/>\n",
    "<img src=\"images/pandas_commands_4.png\" alt=\"Drawing\" style=\"width: 500px;\"/>\n",
    "<img src=\"images/pandas_commands_5.png\" alt=\"Drawing\" style=\"width: 500px;\"/>"
   ]
  },
  {
   "cell_type": "markdown",
   "metadata": {},
   "source": [
    "### 1. Loading the CSV data into a panda DataFrame\n",
    "Pandas main workhorse is the __Pandas DataFrame__. A DataFrame represents a tabular, spreadsheet-like data structure containing an ordered collection of columns, each of which can be a different value type (numeric, string, boolean, etc.).\n",
    "\n",
    "The DataFrame has both a row and column index; it can be thought of kind of like collection of dictionaries that have BOTH vertical and horizontal keys. The vertical key is the like the column, all the horizontal key is like the index."
   ]
  },
  {
   "cell_type": "code",
   "execution_count": 3,
   "metadata": {},
   "outputs": [
    {
     "name": "stderr",
     "output_type": "stream",
     "text": [
      "/opt/tljh/user/lib/python3.7/site-packages/IPython/core/interactiveshell.py:3063: DtypeWarning: Columns (10,45) have mixed types.Specify dtype option on import or set low_memory=False.\n",
      "  interactivity=interactivity, compiler=compiler, result=result)\n"
     ]
    }
   ],
   "source": [
    "# import pandas as pd:\n",
    "import pandas as pd\n",
    "import numpy as np\n",
    "\n",
    "# loading the CSV file as DataFrame:\n",
    "df =\\\n",
    "    pd.read_csv('/home/jupyter-admin-eric/coursework/Data/beds.csv')"
   ]
  },
  {
   "cell_type": "code",
   "execution_count": 4,
   "metadata": {},
   "outputs": [
    {
     "data": {
      "text/html": [
       "<div>\n",
       "<style scoped>\n",
       "    .dataframe tbody tr th:only-of-type {\n",
       "        vertical-align: middle;\n",
       "    }\n",
       "\n",
       "    .dataframe tbody tr th {\n",
       "        vertical-align: top;\n",
       "    }\n",
       "\n",
       "    .dataframe thead th {\n",
       "        text-align: right;\n",
       "    }\n",
       "</style>\n",
       "<table border=\"1\" class=\"dataframe\">\n",
       "  <thead>\n",
       "    <tr style=\"text-align: right;\">\n",
       "      <th></th>\n",
       "      <th>Facility ID</th>\n",
       "      <th>Facility Name</th>\n",
       "      <th>Certification Number</th>\n",
       "      <th>Street Address</th>\n",
       "      <th>City</th>\n",
       "      <th>State</th>\n",
       "      <th>Zip Code</th>\n",
       "      <th>County</th>\n",
       "      <th>Area Office</th>\n",
       "      <th>Phone Number</th>\n",
       "      <th>...</th>\n",
       "      <th>Facility Has Adult Day Health Care Program</th>\n",
       "      <th>Total Adult Day Health Care Capacity</th>\n",
       "      <th>Available Adult Day Health Care Capacity</th>\n",
       "      <th>Facility Has Dialysis Stations</th>\n",
       "      <th>Total Dialysis Stations</th>\n",
       "      <th>Total Dialysis Capacity</th>\n",
       "      <th>Available Dialysis Capacity</th>\n",
       "      <th>Special Circumstances Regarding Bed Availability</th>\n",
       "      <th>Latitude</th>\n",
       "      <th>Longitude</th>\n",
       "    </tr>\n",
       "  </thead>\n",
       "  <tbody>\n",
       "    <tr>\n",
       "      <th>0</th>\n",
       "      <td>17</td>\n",
       "      <td>St. Peter's Nursing And Rehabilitation Center</td>\n",
       "      <td>0101305N</td>\n",
       "      <td>301 Hackett Blvd</td>\n",
       "      <td>Albany</td>\n",
       "      <td>NY</td>\n",
       "      <td>12208</td>\n",
       "      <td>Albany</td>\n",
       "      <td>Capital District Regional Office</td>\n",
       "      <td>(518) 525-7600</td>\n",
       "      <td>...</td>\n",
       "      <td>False</td>\n",
       "      <td>NaN</td>\n",
       "      <td>NaN</td>\n",
       "      <td>False</td>\n",
       "      <td>NaN</td>\n",
       "      <td>NaN</td>\n",
       "      <td>NaN</td>\n",
       "      <td>NaN</td>\n",
       "      <td>42.653286</td>\n",
       "      <td>-73.804999</td>\n",
       "    </tr>\n",
       "    <tr>\n",
       "      <th>1</th>\n",
       "      <td>17</td>\n",
       "      <td>St. Peter's Nursing And Rehabilitation Center</td>\n",
       "      <td>0101305N</td>\n",
       "      <td>301 Hackett Blvd</td>\n",
       "      <td>Albany</td>\n",
       "      <td>NY</td>\n",
       "      <td>12208</td>\n",
       "      <td>Albany</td>\n",
       "      <td>Capital District Regional Office</td>\n",
       "      <td>(518) 525-7600</td>\n",
       "      <td>...</td>\n",
       "      <td>False</td>\n",
       "      <td>NaN</td>\n",
       "      <td>NaN</td>\n",
       "      <td>False</td>\n",
       "      <td>NaN</td>\n",
       "      <td>NaN</td>\n",
       "      <td>NaN</td>\n",
       "      <td>NaN</td>\n",
       "      <td>42.653286</td>\n",
       "      <td>-73.804999</td>\n",
       "    </tr>\n",
       "    <tr>\n",
       "      <th>2</th>\n",
       "      <td>17</td>\n",
       "      <td>St. Peter's Nursing And Rehabilitation Center</td>\n",
       "      <td>0101305N</td>\n",
       "      <td>301 Hackett Blvd</td>\n",
       "      <td>Albany</td>\n",
       "      <td>NY</td>\n",
       "      <td>12208</td>\n",
       "      <td>Albany</td>\n",
       "      <td>Capital District Regional Office</td>\n",
       "      <td>(518) 525-7600</td>\n",
       "      <td>...</td>\n",
       "      <td>False</td>\n",
       "      <td>NaN</td>\n",
       "      <td>NaN</td>\n",
       "      <td>False</td>\n",
       "      <td>NaN</td>\n",
       "      <td>NaN</td>\n",
       "      <td>NaN</td>\n",
       "      <td>NaN</td>\n",
       "      <td>42.653286</td>\n",
       "      <td>-73.804999</td>\n",
       "    </tr>\n",
       "  </tbody>\n",
       "</table>\n",
       "<p>3 rows × 48 columns</p>\n",
       "</div>"
      ],
      "text/plain": [
       "   Facility ID                                  Facility Name  \\\n",
       "0           17  St. Peter's Nursing And Rehabilitation Center   \n",
       "1           17  St. Peter's Nursing And Rehabilitation Center   \n",
       "2           17  St. Peter's Nursing And Rehabilitation Center   \n",
       "\n",
       "  Certification Number    Street Address    City State  Zip Code  County  \\\n",
       "0             0101305N  301 Hackett Blvd  Albany    NY     12208  Albany   \n",
       "1             0101305N  301 Hackett Blvd  Albany    NY     12208  Albany   \n",
       "2             0101305N  301 Hackett Blvd  Albany    NY     12208  Albany   \n",
       "\n",
       "                        Area Office    Phone Number  ...  \\\n",
       "0  Capital District Regional Office  (518) 525-7600  ...   \n",
       "1  Capital District Regional Office  (518) 525-7600  ...   \n",
       "2  Capital District Regional Office  (518) 525-7600  ...   \n",
       "\n",
       "  Facility Has Adult Day Health Care Program  \\\n",
       "0                                      False   \n",
       "1                                      False   \n",
       "2                                      False   \n",
       "\n",
       "  Total Adult Day Health Care Capacity  \\\n",
       "0                                  NaN   \n",
       "1                                  NaN   \n",
       "2                                  NaN   \n",
       "\n",
       "  Available Adult Day Health Care Capacity  Facility Has Dialysis Stations  \\\n",
       "0                                      NaN                           False   \n",
       "1                                      NaN                           False   \n",
       "2                                      NaN                           False   \n",
       "\n",
       "   Total Dialysis Stations  Total Dialysis Capacity  \\\n",
       "0                      NaN                      NaN   \n",
       "1                      NaN                      NaN   \n",
       "2                      NaN                      NaN   \n",
       "\n",
       "   Available Dialysis Capacity  \\\n",
       "0                          NaN   \n",
       "1                          NaN   \n",
       "2                          NaN   \n",
       "\n",
       "   Special Circumstances Regarding Bed Availability   Latitude  Longitude  \n",
       "0                                               NaN  42.653286 -73.804999  \n",
       "1                                               NaN  42.653286 -73.804999  \n",
       "2                                               NaN  42.653286 -73.804999  \n",
       "\n",
       "[3 rows x 48 columns]"
      ]
     },
     "execution_count": 4,
     "metadata": {},
     "output_type": "execute_result"
    }
   ],
   "source": [
    "# head() allows you to see the first couple of rows of data:\n",
    "df.head(3)"
   ]
  },
  {
   "cell_type": "markdown",
   "metadata": {},
   "source": [
    "### 2. Pandas functions that gives you overview of the data"
   ]
  },
  {
   "cell_type": "code",
   "execution_count": 5,
   "metadata": {},
   "outputs": [
    {
     "data": {
      "text/plain": [
       "(115344, 48)"
      ]
     },
     "execution_count": 5,
     "metadata": {},
     "output_type": "execute_result"
    }
   ],
   "source": [
    "# see how many rows/columns:\n",
    "df.shape\n",
    "# first element: rows\n",
    "# second element: columns"
   ]
  },
  {
   "cell_type": "code",
   "execution_count": 6,
   "metadata": {},
   "outputs": [
    {
     "data": {
      "text/plain": [
       "Index(['Facility ID', 'Facility Name', 'Certification Number',\n",
       "       'Street Address', 'City', 'State', 'Zip Code', 'County', 'Area Office',\n",
       "       'Phone Number', 'Website', 'Facility Status', 'Bed Census Date',\n",
       "       'Most Recently Submitted Facility Census Data', 'Weeks Since Census',\n",
       "       'Total Residential Beds', 'Available Residential Beds',\n",
       "       'Facility Has Pediatric Beds', 'Total Pediatric Beds',\n",
       "       'Available Pediatric Beds', 'Facility Has Pediatric Ventilator Beds',\n",
       "       'Total Pediatric Ventilator Beds',\n",
       "       'Available Pediatric Ventilator Beds',\n",
       "       'Facility Has Behavioral Intervention Beds',\n",
       "       'Total Behavioral Intervention Beds',\n",
       "       'Available Behavioral Intervention Beds',\n",
       "       'Facility Has Ventilator Beds', 'Total Ventilator Beds',\n",
       "       'Available Ventilator Beds', 'Facility Has Scatter Ventilator Beds',\n",
       "       'Total Scatter Ventilator Beds', 'Available Scatter Ventilator Beds',\n",
       "       'Facility Has Traumatic Brain Injury (TBI) Beds',\n",
       "       'Total Traumatic Brain Injury (TBI) Beds',\n",
       "       'Available Traumatic Brain Injury (TBI) Beds',\n",
       "       'Facility Has Coma Recovery Beds', 'Total Coma Recovery Beds',\n",
       "       'Available Coma Recovery Beds',\n",
       "       'Facility Has Adult Day Health Care Program',\n",
       "       'Total Adult Day Health Care Capacity',\n",
       "       'Available Adult Day Health Care Capacity',\n",
       "       'Facility Has Dialysis Stations', 'Total Dialysis Stations',\n",
       "       'Total Dialysis Capacity', 'Available Dialysis Capacity',\n",
       "       'Special Circumstances Regarding Bed Availability', 'Latitude',\n",
       "       'Longitude'],\n",
       "      dtype='object')"
      ]
     },
     "execution_count": 6,
     "metadata": {},
     "output_type": "execute_result"
    }
   ],
   "source": [
    "# see all the column names:\n",
    "df.columns"
   ]
  },
  {
   "cell_type": "code",
   "execution_count": 7,
   "metadata": {},
   "outputs": [],
   "source": [
    "# grab a specific column as a pd.Series:\n",
    "total_residential_beds = df['Total Residential Beds']"
   ]
  },
  {
   "cell_type": "code",
   "execution_count": 8,
   "metadata": {},
   "outputs": [
    {
     "data": {
      "text/plain": [
       "count    115344.000000\n",
       "mean        182.810229\n",
       "std         118.334414\n",
       "min           0.000000\n",
       "25%         102.000000\n",
       "50%         160.000000\n",
       "75%         240.000000\n",
       "max         818.000000\n",
       "Name: Total Residential Beds, dtype: float64"
      ]
     },
     "execution_count": 8,
     "metadata": {},
     "output_type": "execute_result"
    }
   ],
   "source": [
    "# display basic information of a pd.Series:\n",
    "total_residential_beds.describe()"
   ]
  },
  {
   "cell_type": "code",
   "execution_count": 9,
   "metadata": {},
   "outputs": [
    {
     "data": {
      "text/plain": [
       "0         True\n",
       "1         True\n",
       "2         True\n",
       "3         True\n",
       "4         True\n",
       "          ... \n",
       "115339    True\n",
       "115340    True\n",
       "115341    True\n",
       "115342    True\n",
       "115343    True\n",
       "Name: Total Coma Recovery Beds, Length: 115344, dtype: bool"
      ]
     },
     "execution_count": 9,
     "metadata": {},
     "output_type": "execute_result"
    }
   ],
   "source": [
    "# check for null values:\n",
    "df['Total Coma Recovery Beds'].isnull()"
   ]
  },
  {
   "cell_type": "code",
   "execution_count": 10,
   "metadata": {},
   "outputs": [
    {
     "data": {
      "text/plain": [
       "114975"
      ]
     },
     "execution_count": 10,
     "metadata": {},
     "output_type": "execute_result"
    }
   ],
   "source": [
    "# check for total null values of the column:\n",
    "df['Total Coma Recovery Beds'].isnull().sum()"
   ]
  },
  {
   "cell_type": "code",
   "execution_count": 11,
   "metadata": {},
   "outputs": [
    {
     "data": {
      "text/plain": [
       "99.68008739076156"
      ]
     },
     "execution_count": 11,
     "metadata": {},
     "output_type": "execute_result"
    }
   ],
   "source": [
    "# percentage of total null:\n",
    "100*(df['Total Coma Recovery Beds'].isnull().sum()/df.shape[0])"
   ]
  },
  {
   "cell_type": "code",
   "execution_count": 12,
   "metadata": {},
   "outputs": [
    {
     "data": {
      "text/plain": [
       "['Facility ID',\n",
       " 'Facility Name',\n",
       " 'Certification Number',\n",
       " 'Street Address',\n",
       " 'City',\n",
       " 'State',\n",
       " 'Zip Code',\n",
       " 'County',\n",
       " 'Area Office',\n",
       " 'Phone Number',\n",
       " 'Website',\n",
       " 'Facility Status',\n",
       " 'Bed Census Date',\n",
       " 'Most Recently Submitted Facility Census Data',\n",
       " 'Weeks Since Census',\n",
       " 'Total Residential Beds',\n",
       " 'Available Residential Beds',\n",
       " 'Facility Has Pediatric Beds',\n",
       " 'Total Pediatric Beds',\n",
       " 'Available Pediatric Beds',\n",
       " 'Facility Has Pediatric Ventilator Beds',\n",
       " 'Total Pediatric Ventilator Beds',\n",
       " 'Available Pediatric Ventilator Beds',\n",
       " 'Facility Has Behavioral Intervention Beds',\n",
       " 'Total Behavioral Intervention Beds',\n",
       " 'Available Behavioral Intervention Beds',\n",
       " 'Facility Has Ventilator Beds',\n",
       " 'Total Ventilator Beds',\n",
       " 'Available Ventilator Beds',\n",
       " 'Facility Has Scatter Ventilator Beds',\n",
       " 'Total Scatter Ventilator Beds',\n",
       " 'Available Scatter Ventilator Beds',\n",
       " 'Facility Has Traumatic Brain Injury (TBI) Beds',\n",
       " 'Total Traumatic Brain Injury (TBI) Beds',\n",
       " 'Available Traumatic Brain Injury (TBI) Beds',\n",
       " 'Facility Has Coma Recovery Beds',\n",
       " 'Total Coma Recovery Beds',\n",
       " 'Available Coma Recovery Beds',\n",
       " 'Facility Has Adult Day Health Care Program',\n",
       " 'Total Adult Day Health Care Capacity',\n",
       " 'Available Adult Day Health Care Capacity',\n",
       " 'Facility Has Dialysis Stations',\n",
       " 'Total Dialysis Stations',\n",
       " 'Total Dialysis Capacity',\n",
       " 'Available Dialysis Capacity',\n",
       " 'Special Circumstances Regarding Bed Availability',\n",
       " 'Latitude',\n",
       " 'Longitude']"
      ]
     },
     "execution_count": 12,
     "metadata": {},
     "output_type": "execute_result"
    }
   ],
   "source": [
    "list(df.columns)"
   ]
  },
  {
   "cell_type": "code",
   "execution_count": 13,
   "metadata": {},
   "outputs": [
    {
     "name": "stdout",
     "output_type": "stream",
     "text": [
      "Index(['FACILITY ID', 'FACILITY NAME', 'CERTIFICATION NUMBER',\n",
      "       'STREET ADDRESS', 'CITY', 'STATE', 'ZIP CODE', 'COUNTY', 'AREA OFFICE',\n",
      "       'PHONE NUMBER', 'WEBSITE', 'FACILITY STATUS', 'BED CENSUS DATE',\n",
      "       'MOST RECENTLY SUBMITTED FACILITY CENSUS DATA', 'WEEKS SINCE CENSUS',\n",
      "       'TOTAL RESIDENTIAL BEDS', 'AVAILABLE RESIDENTIAL BEDS',\n",
      "       'FACILITY HAS PEDIATRIC BEDS', 'TOTAL PEDIATRIC BEDS',\n",
      "       'AVAILABLE PEDIATRIC BEDS', 'FACILITY HAS PEDIATRIC VENTILATOR BEDS',\n",
      "       'TOTAL PEDIATRIC VENTILATOR BEDS',\n",
      "       'AVAILABLE PEDIATRIC VENTILATOR BEDS',\n",
      "       'FACILITY HAS BEHAVIORAL INTERVENTION BEDS',\n",
      "       'TOTAL BEHAVIORAL INTERVENTION BEDS',\n",
      "       'AVAILABLE BEHAVIORAL INTERVENTION BEDS',\n",
      "       'FACILITY HAS VENTILATOR BEDS', 'TOTAL VENTILATOR BEDS',\n",
      "       'AVAILABLE VENTILATOR BEDS', 'FACILITY HAS SCATTER VENTILATOR BEDS',\n",
      "       'TOTAL SCATTER VENTILATOR BEDS', 'AVAILABLE SCATTER VENTILATOR BEDS',\n",
      "       'FACILITY HAS TRAUMATIC BRAIN INJURY (TBI) BEDS',\n",
      "       'TOTAL TRAUMATIC BRAIN INJURY (TBI) BEDS',\n",
      "       'AVAILABLE TRAUMATIC BRAIN INJURY (TBI) BEDS',\n",
      "       'FACILITY HAS COMA RECOVERY BEDS', 'TOTAL COMA RECOVERY BEDS',\n",
      "       'AVAILABLE COMA RECOVERY BEDS',\n",
      "       'FACILITY HAS ADULT DAY HEALTH CARE PROGRAM',\n",
      "       'TOTAL ADULT DAY HEALTH CARE CAPACITY',\n",
      "       'AVAILABLE ADULT DAY HEALTH CARE CAPACITY',\n",
      "       'FACILITY HAS DIALYSIS STATIONS', 'TOTAL DIALYSIS STATIONS',\n",
      "       'TOTAL DIALYSIS CAPACITY', 'AVAILABLE DIALYSIS CAPACITY',\n",
      "       'SPECIAL CIRCUMSTANCES REGARDING BED AVAILABILITY', 'LATITUDE',\n",
      "       'LONGITUDE'],\n",
      "      dtype='object')\n"
     ]
    }
   ],
   "source": [
    "# get all upper case column names:\n",
    "upper_cols = [col.upper() for col in list(df.columns)]\n",
    "# rename column names:\n",
    "df.columns = upper_cols\n",
    "print(df.columns)"
   ]
  },
  {
   "cell_type": "code",
   "execution_count": 14,
   "metadata": {},
   "outputs": [
    {
     "data": {
      "text/plain": [
       "FACILITY ID                                                        17\n",
       "FACILITY NAME           St. Peter's Nursing And Rehabilitation Center\n",
       "CERTIFICATION NUMBER                                         0101305N\n",
       "Name: 2, dtype: object"
      ]
     },
     "execution_count": 14,
     "metadata": {},
     "output_type": "execute_result"
    }
   ],
   "source": [
    "# get data of a specific row (base on absolute number of row):\n",
    "df.iloc[2].head(3)"
   ]
  },
  {
   "cell_type": "code",
   "execution_count": 15,
   "metadata": {},
   "outputs": [
    {
     "data": {
      "text/plain": [
       "FACILITY ID                                                        17\n",
       "FACILITY NAME           St. Peter's Nursing And Rehabilitation Center\n",
       "CERTIFICATION NUMBER                                         0101305N\n",
       "Name: 2, dtype: object"
      ]
     },
     "execution_count": 15,
     "metadata": {},
     "output_type": "execute_result"
    }
   ],
   "source": [
    "# get data of a specific row (base on index; same in this case):\n",
    "df.loc[2].head(3)"
   ]
  },
  {
   "cell_type": "markdown",
   "metadata": {},
   "source": [
    "### 3. Basic pandas manipulation techniques"
   ]
  },
  {
   "cell_type": "code",
   "execution_count": 16,
   "metadata": {},
   "outputs": [
    {
     "data": {
      "text/plain": [
       "0         160\n",
       "1         160\n",
       "2         160\n",
       "3         160\n",
       "4         160\n",
       "         ... \n",
       "115339     24\n",
       "115340     24\n",
       "115341     24\n",
       "115342     24\n",
       "115343     24\n",
       "Name: TOTAL RESIDENTIAL BEDS, Length: 115344, dtype: object"
      ]
     },
     "execution_count": 16,
     "metadata": {},
     "output_type": "execute_result"
    }
   ],
   "source": [
    "# check data types\n",
    "df['TOTAL RESIDENTIAL BEDS'].dtype\n",
    "# change data types:\n",
    "df['TOTAL RESIDENTIAL BEDS'].astype(str)"
   ]
  },
  {
   "cell_type": "code",
   "execution_count": 17,
   "metadata": {},
   "outputs": [
    {
     "data": {
      "text/plain": [
       "0         161\n",
       "1         161\n",
       "2         161\n",
       "3         161\n",
       "4         161\n",
       "         ... \n",
       "115339     25\n",
       "115340     25\n",
       "115341     25\n",
       "115342     25\n",
       "115343     25\n",
       "Name: TOTAL RESIDENTIAL BEDS, Length: 115344, dtype: int64"
      ]
     },
     "execution_count": 17,
     "metadata": {},
     "output_type": "execute_result"
    }
   ],
   "source": [
    "# how to apply a function to every row of a column:\n",
    "df['TOTAL RESIDENTIAL BEDS'].apply(lambda x: x +1)"
   ]
  },
  {
   "cell_type": "code",
   "execution_count": 18,
   "metadata": {},
   "outputs": [
    {
     "data": {
      "text/plain": [
       "0         False\n",
       "1         False\n",
       "2         False\n",
       "3         False\n",
       "4         False\n",
       "          ...  \n",
       "115339     True\n",
       "115340     True\n",
       "115341     True\n",
       "115342     True\n",
       "115343     True\n",
       "Name: TOTAL RESIDENTIAL BEDS, Length: 115344, dtype: bool"
      ]
     },
     "execution_count": 18,
     "metadata": {},
     "output_type": "execute_result"
    }
   ],
   "source": [
    "# masking (filtering rows base on certain conditions):\n",
    "# get a list of bools of a certain condition:\n",
    "df['TOTAL RESIDENTIAL BEDS'] < 50"
   ]
  },
  {
   "cell_type": "code",
   "execution_count": 19,
   "metadata": {},
   "outputs": [
    {
     "data": {
      "text/html": [
       "<div>\n",
       "<style scoped>\n",
       "    .dataframe tbody tr th:only-of-type {\n",
       "        vertical-align: middle;\n",
       "    }\n",
       "\n",
       "    .dataframe tbody tr th {\n",
       "        vertical-align: top;\n",
       "    }\n",
       "\n",
       "    .dataframe thead th {\n",
       "        text-align: right;\n",
       "    }\n",
       "</style>\n",
       "<table border=\"1\" class=\"dataframe\">\n",
       "  <thead>\n",
       "    <tr style=\"text-align: right;\">\n",
       "      <th></th>\n",
       "      <th>FACILITY ID</th>\n",
       "      <th>FACILITY NAME</th>\n",
       "      <th>CERTIFICATION NUMBER</th>\n",
       "      <th>STREET ADDRESS</th>\n",
       "      <th>CITY</th>\n",
       "      <th>STATE</th>\n",
       "      <th>ZIP CODE</th>\n",
       "      <th>COUNTY</th>\n",
       "      <th>AREA OFFICE</th>\n",
       "      <th>PHONE NUMBER</th>\n",
       "      <th>...</th>\n",
       "      <th>FACILITY HAS ADULT DAY HEALTH CARE PROGRAM</th>\n",
       "      <th>TOTAL ADULT DAY HEALTH CARE CAPACITY</th>\n",
       "      <th>AVAILABLE ADULT DAY HEALTH CARE CAPACITY</th>\n",
       "      <th>FACILITY HAS DIALYSIS STATIONS</th>\n",
       "      <th>TOTAL DIALYSIS STATIONS</th>\n",
       "      <th>TOTAL DIALYSIS CAPACITY</th>\n",
       "      <th>AVAILABLE DIALYSIS CAPACITY</th>\n",
       "      <th>SPECIAL CIRCUMSTANCES REGARDING BED AVAILABILITY</th>\n",
       "      <th>LATITUDE</th>\n",
       "      <th>LONGITUDE</th>\n",
       "    </tr>\n",
       "  </thead>\n",
       "  <tbody>\n",
       "    <tr>\n",
       "      <th>19319</th>\n",
       "      <td>378</td>\n",
       "      <td>River Hospital, Inc</td>\n",
       "      <td>2221001N</td>\n",
       "      <td>4 Fuller Street</td>\n",
       "      <td>Alexandria Bay</td>\n",
       "      <td>NY</td>\n",
       "      <td>13607</td>\n",
       "      <td>Jefferson</td>\n",
       "      <td>Central New York Regional Office</td>\n",
       "      <td>(315) 482-2511</td>\n",
       "      <td>...</td>\n",
       "      <td>True</td>\n",
       "      <td>0.0</td>\n",
       "      <td>0.0</td>\n",
       "      <td>False</td>\n",
       "      <td>NaN</td>\n",
       "      <td>NaN</td>\n",
       "      <td>NaN</td>\n",
       "      <td>NaN</td>\n",
       "      <td>44.337294</td>\n",
       "      <td>-75.919973</td>\n",
       "    </tr>\n",
       "    <tr>\n",
       "      <th>19320</th>\n",
       "      <td>378</td>\n",
       "      <td>River Hospital, Inc</td>\n",
       "      <td>2221001N</td>\n",
       "      <td>4 Fuller Street</td>\n",
       "      <td>Alexandria Bay</td>\n",
       "      <td>NY</td>\n",
       "      <td>13607</td>\n",
       "      <td>Jefferson</td>\n",
       "      <td>Central New York Regional Office</td>\n",
       "      <td>(315) 482-2511</td>\n",
       "      <td>...</td>\n",
       "      <td>True</td>\n",
       "      <td>10.0</td>\n",
       "      <td>0.0</td>\n",
       "      <td>False</td>\n",
       "      <td>NaN</td>\n",
       "      <td>NaN</td>\n",
       "      <td>NaN</td>\n",
       "      <td>NaN</td>\n",
       "      <td>44.337294</td>\n",
       "      <td>-75.919973</td>\n",
       "    </tr>\n",
       "    <tr>\n",
       "      <th>19321</th>\n",
       "      <td>378</td>\n",
       "      <td>River Hospital, Inc</td>\n",
       "      <td>2221001N</td>\n",
       "      <td>4 Fuller Street</td>\n",
       "      <td>Alexandria Bay</td>\n",
       "      <td>NY</td>\n",
       "      <td>13607</td>\n",
       "      <td>Jefferson</td>\n",
       "      <td>Central New York Regional Office</td>\n",
       "      <td>(315) 482-2511</td>\n",
       "      <td>...</td>\n",
       "      <td>True</td>\n",
       "      <td>10.0</td>\n",
       "      <td>0.0</td>\n",
       "      <td>False</td>\n",
       "      <td>NaN</td>\n",
       "      <td>NaN</td>\n",
       "      <td>NaN</td>\n",
       "      <td>NaN</td>\n",
       "      <td>44.337294</td>\n",
       "      <td>-75.919973</td>\n",
       "    </tr>\n",
       "    <tr>\n",
       "      <th>19322</th>\n",
       "      <td>378</td>\n",
       "      <td>River Hospital, Inc</td>\n",
       "      <td>2221001N</td>\n",
       "      <td>4 Fuller Street</td>\n",
       "      <td>Alexandria Bay</td>\n",
       "      <td>NY</td>\n",
       "      <td>13607</td>\n",
       "      <td>Jefferson</td>\n",
       "      <td>Central New York Regional Office</td>\n",
       "      <td>(315) 482-2511</td>\n",
       "      <td>...</td>\n",
       "      <td>True</td>\n",
       "      <td>10.0</td>\n",
       "      <td>0.0</td>\n",
       "      <td>False</td>\n",
       "      <td>NaN</td>\n",
       "      <td>NaN</td>\n",
       "      <td>NaN</td>\n",
       "      <td>NaN</td>\n",
       "      <td>44.337294</td>\n",
       "      <td>-75.919973</td>\n",
       "    </tr>\n",
       "    <tr>\n",
       "      <th>19323</th>\n",
       "      <td>378</td>\n",
       "      <td>River Hospital, Inc</td>\n",
       "      <td>2221001N</td>\n",
       "      <td>4 Fuller Street</td>\n",
       "      <td>Alexandria Bay</td>\n",
       "      <td>NY</td>\n",
       "      <td>13607</td>\n",
       "      <td>Jefferson</td>\n",
       "      <td>Central New York Regional Office</td>\n",
       "      <td>(315) 482-2511</td>\n",
       "      <td>...</td>\n",
       "      <td>True</td>\n",
       "      <td>10.0</td>\n",
       "      <td>0.0</td>\n",
       "      <td>False</td>\n",
       "      <td>NaN</td>\n",
       "      <td>NaN</td>\n",
       "      <td>NaN</td>\n",
       "      <td>NaN</td>\n",
       "      <td>44.337294</td>\n",
       "      <td>-75.919973</td>\n",
       "    </tr>\n",
       "    <tr>\n",
       "      <th>...</th>\n",
       "      <td>...</td>\n",
       "      <td>...</td>\n",
       "      <td>...</td>\n",
       "      <td>...</td>\n",
       "      <td>...</td>\n",
       "      <td>...</td>\n",
       "      <td>...</td>\n",
       "      <td>...</td>\n",
       "      <td>...</td>\n",
       "      <td>...</td>\n",
       "      <td>...</td>\n",
       "      <td>...</td>\n",
       "      <td>...</td>\n",
       "      <td>...</td>\n",
       "      <td>...</td>\n",
       "      <td>...</td>\n",
       "      <td>...</td>\n",
       "      <td>...</td>\n",
       "      <td>...</td>\n",
       "      <td>...</td>\n",
       "      <td>...</td>\n",
       "    </tr>\n",
       "    <tr>\n",
       "      <th>115339</th>\n",
       "      <td>9198</td>\n",
       "      <td>Eddy Village Green at Beverwyck</td>\n",
       "      <td>0151301N</td>\n",
       "      <td>40 Autumn Drive</td>\n",
       "      <td>Slingerlands</td>\n",
       "      <td>NY</td>\n",
       "      <td>12159</td>\n",
       "      <td>Albany</td>\n",
       "      <td>Capital District Regional Office</td>\n",
       "      <td>(518) 451-2107</td>\n",
       "      <td>...</td>\n",
       "      <td>False</td>\n",
       "      <td>NaN</td>\n",
       "      <td>NaN</td>\n",
       "      <td>False</td>\n",
       "      <td>NaN</td>\n",
       "      <td>NaN</td>\n",
       "      <td>NaN</td>\n",
       "      <td>NaN</td>\n",
       "      <td>42.658396</td>\n",
       "      <td>-73.838489</td>\n",
       "    </tr>\n",
       "    <tr>\n",
       "      <th>115340</th>\n",
       "      <td>9198</td>\n",
       "      <td>Eddy Village Green at Beverwyck</td>\n",
       "      <td>0151301N</td>\n",
       "      <td>40 Autumn Drive</td>\n",
       "      <td>Slingerlands</td>\n",
       "      <td>NY</td>\n",
       "      <td>12159</td>\n",
       "      <td>Albany</td>\n",
       "      <td>Capital District Regional Office</td>\n",
       "      <td>(518) 451-2107</td>\n",
       "      <td>...</td>\n",
       "      <td>False</td>\n",
       "      <td>NaN</td>\n",
       "      <td>NaN</td>\n",
       "      <td>False</td>\n",
       "      <td>NaN</td>\n",
       "      <td>NaN</td>\n",
       "      <td>NaN</td>\n",
       "      <td>NaN</td>\n",
       "      <td>42.658396</td>\n",
       "      <td>-73.838489</td>\n",
       "    </tr>\n",
       "    <tr>\n",
       "      <th>115341</th>\n",
       "      <td>9198</td>\n",
       "      <td>Eddy Village Green at Beverwyck</td>\n",
       "      <td>0151301N</td>\n",
       "      <td>40 Autumn Drive</td>\n",
       "      <td>Slingerlands</td>\n",
       "      <td>NY</td>\n",
       "      <td>12159</td>\n",
       "      <td>Albany</td>\n",
       "      <td>Capital District Regional Office</td>\n",
       "      <td>(518) 451-2107</td>\n",
       "      <td>...</td>\n",
       "      <td>False</td>\n",
       "      <td>NaN</td>\n",
       "      <td>NaN</td>\n",
       "      <td>False</td>\n",
       "      <td>NaN</td>\n",
       "      <td>NaN</td>\n",
       "      <td>NaN</td>\n",
       "      <td>NaN</td>\n",
       "      <td>42.658396</td>\n",
       "      <td>-73.838489</td>\n",
       "    </tr>\n",
       "    <tr>\n",
       "      <th>115342</th>\n",
       "      <td>9198</td>\n",
       "      <td>Eddy Village Green at Beverwyck</td>\n",
       "      <td>0151301N</td>\n",
       "      <td>40 Autumn Drive</td>\n",
       "      <td>Slingerlands</td>\n",
       "      <td>NY</td>\n",
       "      <td>12159</td>\n",
       "      <td>Albany</td>\n",
       "      <td>Capital District Regional Office</td>\n",
       "      <td>(518) 451-2107</td>\n",
       "      <td>...</td>\n",
       "      <td>False</td>\n",
       "      <td>NaN</td>\n",
       "      <td>NaN</td>\n",
       "      <td>False</td>\n",
       "      <td>NaN</td>\n",
       "      <td>NaN</td>\n",
       "      <td>NaN</td>\n",
       "      <td>NaN</td>\n",
       "      <td>42.658396</td>\n",
       "      <td>-73.838489</td>\n",
       "    </tr>\n",
       "    <tr>\n",
       "      <th>115343</th>\n",
       "      <td>9198</td>\n",
       "      <td>Eddy Village Green at Beverwyck</td>\n",
       "      <td>0151301N</td>\n",
       "      <td>40 Autumn Drive</td>\n",
       "      <td>Slingerlands</td>\n",
       "      <td>NY</td>\n",
       "      <td>12159</td>\n",
       "      <td>Albany</td>\n",
       "      <td>Capital District Regional Office</td>\n",
       "      <td>(518) 451-2107</td>\n",
       "      <td>...</td>\n",
       "      <td>False</td>\n",
       "      <td>NaN</td>\n",
       "      <td>NaN</td>\n",
       "      <td>False</td>\n",
       "      <td>NaN</td>\n",
       "      <td>NaN</td>\n",
       "      <td>NaN</td>\n",
       "      <td>NaN</td>\n",
       "      <td>42.658396</td>\n",
       "      <td>-73.838489</td>\n",
       "    </tr>\n",
       "  </tbody>\n",
       "</table>\n",
       "<p>668 rows × 48 columns</p>\n",
       "</div>"
      ],
      "text/plain": [
       "        FACILITY ID                    FACILITY NAME CERTIFICATION NUMBER  \\\n",
       "19319           378              River Hospital, Inc             2221001N   \n",
       "19320           378              River Hospital, Inc             2221001N   \n",
       "19321           378              River Hospital, Inc             2221001N   \n",
       "19322           378              River Hospital, Inc             2221001N   \n",
       "19323           378              River Hospital, Inc             2221001N   \n",
       "...             ...                              ...                  ...   \n",
       "115339         9198  Eddy Village Green at Beverwyck             0151301N   \n",
       "115340         9198  Eddy Village Green at Beverwyck             0151301N   \n",
       "115341         9198  Eddy Village Green at Beverwyck             0151301N   \n",
       "115342         9198  Eddy Village Green at Beverwyck             0151301N   \n",
       "115343         9198  Eddy Village Green at Beverwyck             0151301N   \n",
       "\n",
       "         STREET ADDRESS            CITY STATE  ZIP CODE     COUNTY  \\\n",
       "19319   4 Fuller Street  Alexandria Bay    NY     13607  Jefferson   \n",
       "19320   4 Fuller Street  Alexandria Bay    NY     13607  Jefferson   \n",
       "19321   4 Fuller Street  Alexandria Bay    NY     13607  Jefferson   \n",
       "19322   4 Fuller Street  Alexandria Bay    NY     13607  Jefferson   \n",
       "19323   4 Fuller Street  Alexandria Bay    NY     13607  Jefferson   \n",
       "...                 ...             ...   ...       ...        ...   \n",
       "115339  40 Autumn Drive    Slingerlands    NY     12159     Albany   \n",
       "115340  40 Autumn Drive    Slingerlands    NY     12159     Albany   \n",
       "115341  40 Autumn Drive    Slingerlands    NY     12159     Albany   \n",
       "115342  40 Autumn Drive    Slingerlands    NY     12159     Albany   \n",
       "115343  40 Autumn Drive    Slingerlands    NY     12159     Albany   \n",
       "\n",
       "                             AREA OFFICE    PHONE NUMBER  ...  \\\n",
       "19319   Central New York Regional Office  (315) 482-2511  ...   \n",
       "19320   Central New York Regional Office  (315) 482-2511  ...   \n",
       "19321   Central New York Regional Office  (315) 482-2511  ...   \n",
       "19322   Central New York Regional Office  (315) 482-2511  ...   \n",
       "19323   Central New York Regional Office  (315) 482-2511  ...   \n",
       "...                                  ...             ...  ...   \n",
       "115339  Capital District Regional Office  (518) 451-2107  ...   \n",
       "115340  Capital District Regional Office  (518) 451-2107  ...   \n",
       "115341  Capital District Regional Office  (518) 451-2107  ...   \n",
       "115342  Capital District Regional Office  (518) 451-2107  ...   \n",
       "115343  Capital District Regional Office  (518) 451-2107  ...   \n",
       "\n",
       "       FACILITY HAS ADULT DAY HEALTH CARE PROGRAM  \\\n",
       "19319                                        True   \n",
       "19320                                        True   \n",
       "19321                                        True   \n",
       "19322                                        True   \n",
       "19323                                        True   \n",
       "...                                           ...   \n",
       "115339                                      False   \n",
       "115340                                      False   \n",
       "115341                                      False   \n",
       "115342                                      False   \n",
       "115343                                      False   \n",
       "\n",
       "       TOTAL ADULT DAY HEALTH CARE CAPACITY  \\\n",
       "19319                                   0.0   \n",
       "19320                                  10.0   \n",
       "19321                                  10.0   \n",
       "19322                                  10.0   \n",
       "19323                                  10.0   \n",
       "...                                     ...   \n",
       "115339                                  NaN   \n",
       "115340                                  NaN   \n",
       "115341                                  NaN   \n",
       "115342                                  NaN   \n",
       "115343                                  NaN   \n",
       "\n",
       "       AVAILABLE ADULT DAY HEALTH CARE CAPACITY  \\\n",
       "19319                                       0.0   \n",
       "19320                                       0.0   \n",
       "19321                                       0.0   \n",
       "19322                                       0.0   \n",
       "19323                                       0.0   \n",
       "...                                         ...   \n",
       "115339                                      NaN   \n",
       "115340                                      NaN   \n",
       "115341                                      NaN   \n",
       "115342                                      NaN   \n",
       "115343                                      NaN   \n",
       "\n",
       "        FACILITY HAS DIALYSIS STATIONS  TOTAL DIALYSIS STATIONS  \\\n",
       "19319                            False                      NaN   \n",
       "19320                            False                      NaN   \n",
       "19321                            False                      NaN   \n",
       "19322                            False                      NaN   \n",
       "19323                            False                      NaN   \n",
       "...                                ...                      ...   \n",
       "115339                           False                      NaN   \n",
       "115340                           False                      NaN   \n",
       "115341                           False                      NaN   \n",
       "115342                           False                      NaN   \n",
       "115343                           False                      NaN   \n",
       "\n",
       "        TOTAL DIALYSIS CAPACITY  AVAILABLE DIALYSIS CAPACITY  \\\n",
       "19319                       NaN                          NaN   \n",
       "19320                       NaN                          NaN   \n",
       "19321                       NaN                          NaN   \n",
       "19322                       NaN                          NaN   \n",
       "19323                       NaN                          NaN   \n",
       "...                         ...                          ...   \n",
       "115339                      NaN                          NaN   \n",
       "115340                      NaN                          NaN   \n",
       "115341                      NaN                          NaN   \n",
       "115342                      NaN                          NaN   \n",
       "115343                      NaN                          NaN   \n",
       "\n",
       "        SPECIAL CIRCUMSTANCES REGARDING BED AVAILABILITY   LATITUDE  LONGITUDE  \n",
       "19319                                                NaN  44.337294 -75.919973  \n",
       "19320                                                NaN  44.337294 -75.919973  \n",
       "19321                                                NaN  44.337294 -75.919973  \n",
       "19322                                                NaN  44.337294 -75.919973  \n",
       "19323                                                NaN  44.337294 -75.919973  \n",
       "...                                                  ...        ...        ...  \n",
       "115339                                               NaN  42.658396 -73.838489  \n",
       "115340                                               NaN  42.658396 -73.838489  \n",
       "115341                                               NaN  42.658396 -73.838489  \n",
       "115342                                               NaN  42.658396 -73.838489  \n",
       "115343                                               NaN  42.658396 -73.838489  \n",
       "\n",
       "[668 rows x 48 columns]"
      ]
     },
     "execution_count": 19,
     "metadata": {},
     "output_type": "execute_result"
    }
   ],
   "source": [
    "# pass that bool into the DataFame, only the True rows remains:\n",
    "df.loc[df['TOTAL RESIDENTIAL BEDS'] < 26]"
   ]
  },
  {
   "cell_type": "markdown",
   "metadata": {},
   "source": [
    "### 4. How to initiate a DataFrame"
   ]
  },
  {
   "cell_type": "code",
   "execution_count": 20,
   "metadata": {},
   "outputs": [],
   "source": [
    "# this won't work:\n",
    "#pd.DataFrame(\n",
    "#    [[1, 2, 3], ['One', 'Two', 'Three']],\n",
    "#    columns = ['int', 'str']\n",
    "#)"
   ]
  },
  {
   "cell_type": "code",
   "execution_count": 21,
   "metadata": {},
   "outputs": [
    {
     "data": {
      "text/html": [
       "<div>\n",
       "<style scoped>\n",
       "    .dataframe tbody tr th:only-of-type {\n",
       "        vertical-align: middle;\n",
       "    }\n",
       "\n",
       "    .dataframe tbody tr th {\n",
       "        vertical-align: top;\n",
       "    }\n",
       "\n",
       "    .dataframe thead th {\n",
       "        text-align: right;\n",
       "    }\n",
       "</style>\n",
       "<table border=\"1\" class=\"dataframe\">\n",
       "  <thead>\n",
       "    <tr style=\"text-align: right;\">\n",
       "      <th></th>\n",
       "      <th>int</th>\n",
       "      <th>str</th>\n",
       "    </tr>\n",
       "  </thead>\n",
       "  <tbody>\n",
       "    <tr>\n",
       "      <th>0</th>\n",
       "      <td>1</td>\n",
       "      <td>One</td>\n",
       "    </tr>\n",
       "    <tr>\n",
       "      <th>1</th>\n",
       "      <td>2</td>\n",
       "      <td>Two</td>\n",
       "    </tr>\n",
       "    <tr>\n",
       "      <th>2</th>\n",
       "      <td>3</td>\n",
       "      <td>Three</td>\n",
       "    </tr>\n",
       "  </tbody>\n",
       "</table>\n",
       "</div>"
      ],
      "text/plain": [
       "   int    str\n",
       "0    1    One\n",
       "1    2    Two\n",
       "2    3  Three"
      ]
     },
     "execution_count": 21,
     "metadata": {},
     "output_type": "execute_result"
    }
   ],
   "source": [
    "# this works, but it is ugly:\n",
    "data =\\\n",
    "     [['int', 'str'],\n",
    "     [1, 'One'],\n",
    "     [2, 'Two'],\n",
    "     [3, 'Three']]\n",
    "pd.DataFrame(\n",
    "    data[1:],\n",
    "    columns = data[0]\n",
    ")"
   ]
  },
  {
   "cell_type": "code",
   "execution_count": 22,
   "metadata": {},
   "outputs": [
    {
     "data": {
      "text/plain": [
       "array([['1', 'One'],\n",
       "       ['2', 'Two'],\n",
       "       ['3', 'Three']], dtype='<U21')"
      ]
     },
     "execution_count": 22,
     "metadata": {},
     "output_type": "execute_result"
    }
   ],
   "source": [
    "# instead, reshape the data:\n",
    "# we turn the dat into a numpy array:\n",
    "data =\\\n",
    "    np.array([[1, 2, 3], ['One', 'Two', 'Three']])\n",
    "# T (transpose) reshape the dimention of the nested list:\n",
    "data.T"
   ]
  },
  {
   "cell_type": "code",
   "execution_count": 23,
   "metadata": {},
   "outputs": [
    {
     "data": {
      "text/html": [
       "<div>\n",
       "<style scoped>\n",
       "    .dataframe tbody tr th:only-of-type {\n",
       "        vertical-align: middle;\n",
       "    }\n",
       "\n",
       "    .dataframe tbody tr th {\n",
       "        vertical-align: top;\n",
       "    }\n",
       "\n",
       "    .dataframe thead th {\n",
       "        text-align: right;\n",
       "    }\n",
       "</style>\n",
       "<table border=\"1\" class=\"dataframe\">\n",
       "  <thead>\n",
       "    <tr style=\"text-align: right;\">\n",
       "      <th></th>\n",
       "      <th>int</th>\n",
       "      <th>str</th>\n",
       "    </tr>\n",
       "  </thead>\n",
       "  <tbody>\n",
       "    <tr>\n",
       "      <th>0</th>\n",
       "      <td>1</td>\n",
       "      <td>One</td>\n",
       "    </tr>\n",
       "    <tr>\n",
       "      <th>1</th>\n",
       "      <td>2</td>\n",
       "      <td>Two</td>\n",
       "    </tr>\n",
       "    <tr>\n",
       "      <th>2</th>\n",
       "      <td>3</td>\n",
       "      <td>Three</td>\n",
       "    </tr>\n",
       "  </tbody>\n",
       "</table>\n",
       "</div>"
      ],
      "text/plain": [
       "  int    str\n",
       "0   1    One\n",
       "1   2    Two\n",
       "2   3  Three"
      ]
     },
     "execution_count": 23,
     "metadata": {},
     "output_type": "execute_result"
    }
   ],
   "source": [
    "# create the dataframe:\n",
    "pd.DataFrame(\n",
    "    data.T,\n",
    "    columns = ['int', 'str']\n",
    ")"
   ]
  },
  {
   "cell_type": "markdown",
   "metadata": {},
   "source": [
    "### 5. Let's do some real/useful exploration!"
   ]
  },
  {
   "cell_type": "markdown",
   "metadata": {},
   "source": [
    "####  Choose a nursing home (\"Facility\"), and subset the data by that nursing home. Answer the following using Pandas."
   ]
  },
  {
   "cell_type": "code",
   "execution_count": 24,
   "metadata": {},
   "outputs": [
    {
     "data": {
      "text/plain": [
       "array([\"St. Peter's Nursing And Rehabilitation Center\",\n",
       "       'St Margarets Center',\n",
       "       'Hudson Park Rehabilitation and Nursing Center',\n",
       "       'Daughters of Sarah Nursing Center',\n",
       "       'Teresian House Nursing Home Co Inc',\n",
       "       'Bethlehem Commons Care Center',\n",
       "       'Our Lady of Hope Residence-Little Sisters of the Poor',\n",
       "       'Albany County Nursing Home',\n",
       "       'Guilderland Center Rehabilitation and Extended Care Facility',\n",
       "       'Cuba Memorial Hospital Inc SNF',\n",
       "       'Highland Park Rehabilitation and Nursing Center',\n",
       "       'Elizabeth Church Manor Nursing Home, Inc',\n",
       "       'Good Shepherd-Fairview Home Inc',\n",
       "       'Bridgewater Center for Rehabilitation & Nursing, LLC',\n",
       "       'Absolut Center for Nursing and Rehabilitation at Endicott, LLC',\n",
       "       'Ideal Senior Living Center',\n",
       "       'Susquehanna Nursing & Rehabilitation Center, LLC',\n",
       "       'Vestal Park Rehabilitation and Nursing Center',\n",
       "       'Willow Point Nursing Home',\n",
       "       'The Pines Healthcare & Rehabilitation Centers Olean Campus',\n",
       "       'Absolut Center for Nursing and Rehabilitation at Allegany, LLC',\n",
       "       'Absolut Center for Nursing and Rehabilitation at Salamanca, LLC',\n",
       "       'The Pines Healthcare & Rehabilitation Centers  Machias Campus',\n",
       "       'Auburn Nursing Home', 'Mercy Health & Rehab Center NH Inc',\n",
       "       'Northwoods Rehabilitation&Extended Care Facility at Moravia',\n",
       "       'Chautauqua County Home', 'Heritage Park Health Care Center',\n",
       "       'Lutheran Retirement Home',\n",
       "       'Heritage Village Rehab and Skilled Nursing, Inc.',\n",
       "       'Arnot-Ogden Medical Center Residential Health Care Facility',\n",
       "       'St Josephs Hospital - Skilled Nursing Facility',\n",
       "       'Chemung County Health Center-Nursing Facility',\n",
       "       'Elcor Nursing and Rehabilitation Center',\n",
       "       'Chase Memorial Nursing Home Co Inc',\n",
       "       'Chenango Memorial Hospital Inc SNF',\n",
       "       'Valley View Manor Nursing Home', 'NYS Veterans Home',\n",
       "       'Champlain Valley Physicians Hospital Medical Center SNF',\n",
       "       'Evergreen Valley Nursing Home', 'Meadowbrook Healthcare',\n",
       "       'Clinton County Nursing Home', \"FASNY Firemen's Home\",\n",
       "       'Pine Haven Home', 'Barnwell Nursing & Rehabilitation Center',\n",
       "       'Livingston Hills Nursing & Rehabilitation Center, LLC',\n",
       "       'Cortland Park Rehabilitation and Nursing Center',\n",
       "       'Crown Center for Nursing and Rehabilitation', 'Robinson Terrace',\n",
       "       'Mountainside Residential Care Center', 'Countryside Care Center',\n",
       "       'The Pines at Poughkeepsie Center for Nursing & Rehabilitation',\n",
       "       'Dutchess Center for Rehabilitation and Healthcare',\n",
       "       'Elant at Wappingers Falls',\n",
       "       'Northern Dutchess Res Health Care Facility, Inc',\n",
       "       'Ferncliff Nursing Home Co Inc', 'The Baptist Home at Brookmeade',\n",
       "       'Elant at Fishkill, Inc.', 'Victory Lake Nursing Center',\n",
       "       'Renaissance Rehabilitation and Nursing Care Center',\n",
       "       'Mercy Hospital Skilled Nursing Facility', 'Elderwood at Amherst',\n",
       "       'Niagara Lutheran Home & Rehabilitation Center Inc',\n",
       "       'Hawthorn Health Multicare Center for Living',\n",
       "       'St Catherine Laboure Health Care Center',\n",
       "       'Waterfront Center for Rehabilitation and Healthcare',\n",
       "       'Sheridan Manor LLC', 'Mcauley Residence', 'Schofield Residence',\n",
       "       'Elderwood at Lancaster', 'Erie County Home',\n",
       "       'St Francis Home of Williamsville', 'Brooklyn-Queens Nursing Home',\n",
       "       'Absolut Center for Nursing and Rehabilitation at Aurora Park, LLC',\n",
       "       'Jennie B Richmond Chaffee Nursing Home Company Inc',\n",
       "       'Fiddlers Green Manor Nursing Home',\n",
       "       'Absolut Center for Nursing and Rehabilitation at Orchard Park, LLC',\n",
       "       'Beechwood Homes', 'Elderwood Health Care at Heathwood',\n",
       "       'Garden Gate Health Care Facility',\n",
       "       'Brothers of Mercy Nursing & Rehabilitation Center',\n",
       "       'Elderwood at Grand Island', 'Seneca Health Care Center',\n",
       "       'Horace Nye Home', 'Heritage Commons Residential Health Care',\n",
       "       'Uihlein Living Center', 'Mercy Living Center',\n",
       "       'Alice Hyde Medical Center', 'Franklin County Nursing Home',\n",
       "       'Nathan Littauer Hospital Nursing Home', 'Wells Nursing Home Inc',\n",
       "       'Fulton Center for Rehabilitation and Healthcare',\n",
       "       'Batavia Health Care Center, LLC', 'Genesee County Nursing Home',\n",
       "       'The Pines at Catskill Center for Nursing & Rehabilitation',\n",
       "       'Kaaterskill Care: Skilled Nursing and Rehab',\n",
       "       'Mohawk Valley Health Care Center', 'Folts Home',\n",
       "       'Little Falls Hospital',\n",
       "       'Alpine Rehabilitation and Nursing Center',\n",
       "       'Samaritan Keep Nursing Home Inc', 'Mercy of Northern New York',\n",
       "       'River Hospital, Inc', 'Carthage Area Hospital',\n",
       "       'The Country Manor Nursing and Rehabilitation Centre',\n",
       "       'Lewis County General Hospital-Nursing Home Unit',\n",
       "       'Avon Nursing Home, LLC',\n",
       "       'Livingston County Center for Nursing and Rehabilitation',\n",
       "       'Conesus Lake Nursing Home', 'Oneida Healthcare',\n",
       "       'Community Memorial Hospital Inc NH Unit',\n",
       "       'Chittenango Center for Rehabilitation and Health Care',\n",
       "       'Aaron Manor Rehabilitation and Nursing Center',\n",
       "       'Baird Nursing Home LLC', 'The Shore Winds, LLC',\n",
       "       'Monroe Community Hospital', 'St Johns Health Care Corporation',\n",
       "       'Church Home of the Protestant Episcopal Church',\n",
       "       'Blossom Health Care Center',\n",
       "       'Blossom South Nursing and Rehabilitation Center',\n",
       "       'Blossom North Nursing and Rehabilitation Center',\n",
       "       'Wesley Gardens Corporation', 'Wedgewood Nursing Home',\n",
       "       'Fairport Baptist Homes', 'Maplewood Nursing Home Inc',\n",
       "       'The Brightonian, Inc', 'The Friendly Home', 'The Hurlbut',\n",
       "       'Woodside Manor Nursing Home Inc',\n",
       "       'Lakeside - Beikirch Care Center, Inc', 'Westgate Nursing Home',\n",
       "       'Hamilton Manor Nursing Home', 'Latta Road Nursing Home',\n",
       "       'Park Ridge Nursing Home', 'Latta Road Nursing Home A',\n",
       "       'St Anns Community', 'Penfield Place', 'Hill Haven Nursing Home',\n",
       "       'Crest Manor Living and Rehabilitation Center',\n",
       "       'Wilkinson Residential Health Care Facility',\n",
       "       'River Ridge Living Center, LLC',\n",
       "       'Capstone Center for Rehabilitation and Nursing',\n",
       "       'Palatine Nursing Home', 'Glengariff Health Care Center',\n",
       "       'Marquis Rehabilitation & Nursing Center',\n",
       "       'Glen Cove Center for Nursing and Rehabilitation',\n",
       "       'Beach Terrace Care Center',\n",
       "       'Grandell Rehabilitation and Nursing Center',\n",
       "       'Komanoff Center for Geriatric & Rehab Medicine',\n",
       "       'South Shore Healthcare', 'Hempstead Park Nursing Home',\n",
       "       'Mayfair Care Center',\n",
       "       'The Grand Pavilion for Rehab & Nursing at Rockville Centre',\n",
       "       'Rockville Skilled Nursing & Rehabilitation Center, LLC',\n",
       "       'Lynbrook Restorative Therapy and Nursing',\n",
       "       'Grace Plaza Nursing and Rehabilitation Center',\n",
       "       'Daleview Care Center', 'Belair Care Center Inc',\n",
       "       'A Holly Patterson Extended Care Facility',\n",
       "       'Oceanside Care Center Inc', 'Garden Care Center',\n",
       "       'Woodmere Rehab & Health Care Center, Inc',\n",
       "       'Sands Point Center for Health and Rehabilitation',\n",
       "       'Highfield Gardens Care Center of Great Neck', 'Sunharbor Manor',\n",
       "       'Parkview Care and Rehabilitation Center, Inc.',\n",
       "       'Cold Spring Hills Center for Nursing and Rehabilitation',\n",
       "       'Woodbury Center for Health Care', 'Central Island Healthcare',\n",
       "       'Bayview Nursing and Rehabilitation Center',\n",
       "       'Briody Health Care Facility',\n",
       "       'Odd Fellow & Rebekah Rehabilitation&Health Care Center Inc',\n",
       "       'Schoellkopf Health Center',\n",
       "       'Niagara Rehabilitation and Nursing Center',\n",
       "       'Degraff Memorial Hospital-Skilled Nursing Facility',\n",
       "       'Fairchild Manor Nursing Home',\n",
       "       'Newfane Rehab & Health Care Center',\n",
       "       'Absolut Center for Nursing and Rehabilitation at Gasport, LLC',\n",
       "       'Rome Memorial Hospital, Inc - RHCF',\n",
       "       'Colonial Park Rehabilitation and Nursing Center',\n",
       "       'Rome Center for Rehabilitation and Health Care',\n",
       "       'Bethany Gardens Skilled Living Center',\n",
       "       'Betsy Ross Rehabilitation Center, Inc',\n",
       "       'Katherine Luther Residential Health Care and Rehabilitation Center',\n",
       "       'Masonic Care Community of New York',\n",
       "       'St Joseph Nursing Home Co of Utica',\n",
       "       'The Pines at Utica Center for Nursing & Rehabilitation',\n",
       "       'Heritage Health Care Center',\n",
       "       'Sunset Nursing and Rehabilitation Center, Inc.',\n",
       "       'Harding Nursing Home', 'Charles T Sitrin Health Care Center Inc',\n",
       "       'Presbyterian Home for Central New York Inc',\n",
       "       'Eastern Star Home & Infirmary',\n",
       "       'Harbour Health Multicare Center for Living',\n",
       "       'Jewish Home of Central New York',\n",
       "       'Loretto Health and Rehabilitation Center',\n",
       "       'Van Duyn Home and Hospital',\n",
       "       'Absolut Center for Nursing and Rehabilitation at Houghton, LLC',\n",
       "       'Central Park Rehabilitation and Nursing Center',\n",
       "       'St Camillus Residential Health Care Facility',\n",
       "       'James Square Health and Rehabilitation Centre',\n",
       "       'Rosewood Heights Health Center', 'Sunnyside Care Center',\n",
       "       'Living Center at Geneva - North',\n",
       "       'Living Center at Geneva - South',\n",
       "       'Clifton Springs Hospital and Clinic Extended Care',\n",
       "       'M.M. Ewing Continuing Care Center', 'Elm Manor Nursing Home',\n",
       "       'Ontario County Health Facility',\n",
       "       'Highland Rehabilitation and Nursing Center',\n",
       "       'Elant at Newburgh, Inc.',\n",
       "       'The Valley View Center for Nursing Care and Rehabilitation',\n",
       "       'Montgomery Nursing and Rehabilitation Center',\n",
       "       'The Villages of Orleans Health & Rehabilitation Center',\n",
       "       'Medina Memorial Hospital SNF',\n",
       "       'Orchard Manor Rehabilitation and Nursing Center',\n",
       "       'Michaud Residential Health Services, Inc.',\n",
       "       'Morningstar Residential Care Center', 'Pontiac Nursing Home',\n",
       "       'Loretto-Oswego Health and Rehabilitation Center',\n",
       "       'St Luke Residential Health Care Facility Inc',\n",
       "       'Aurelia Osborn Fox Memorial Hospital',\n",
       "       'Chestnut Park Rehabilitation and Nursing Center', 'Otsego Manor',\n",
       "       'Putnam Nursing & Rehabilitation Center', 'Van Rensselaer Manor',\n",
       "       'The Springs Nursing and Rehabilitation Centre',\n",
       "       'The Center for Nursing and Rehabilitation at Hoosick Falls',\n",
       "       'Riverside Center for Rehabilitation and Nursing',\n",
       "       'Diamond Hill Nursing and Rehabilitation Center',\n",
       "       'Northern Riverview Health Care Center, Inc',\n",
       "       'Pine Valley Center for Rehabilitation and Nursing',\n",
       "       'Ramapo Manor Center for Rehabilitation & Nursing',\n",
       "       'Northern Manor Geriatric Center Inc',\n",
       "       'Tolstoy Foundation Rehabilitation and Nursing Center',\n",
       "       'Nyack Manor Nursing Home',\n",
       "       'Friedwald Center for Rehabilitation and Nursing, LLC',\n",
       "       'Summit Park Nursing Care Center',\n",
       "       'Northern Metropolitan Residential Health Care Facility Inc',\n",
       "       'Claxton-Hepburn Medical Center RHCF', 'St Josephs Home',\n",
       "       'RiverLedge Health Care and Rehabilitation Center',\n",
       "       'Highland Nursing Home Inc', 'St Regis Nursing Home, Inc.',\n",
       "       'Maplewood Health Care and Rehabilitation Center',\n",
       "       'Kinney Nursing Home', 'Saratoga Care Nursing Home',\n",
       "       'Wesley Health Care Center Inc', 'Saratoga County Maplewood Manor',\n",
       "       'The Avenue Nursing and Rehabilitation Centre',\n",
       "       'Catskill Regional Medical Center',\n",
       "       'Kingsway Arms Nursing Center Inc',\n",
       "       'Baptist Health Nursing and Rehabilitation Center, Inc',\n",
       "       'Glendale Home-Schdy Cnty Dept Social Services',\n",
       "       'The Dutch Manor Nursing and Rehabilitation Centre',\n",
       "       'Grand Manor Nursing & Rehabilitation Center',\n",
       "       'Schuyler Hospital Inc and Long Term Care Unit',\n",
       "       'Seneca Nursing & Rehabilitation Center, LLC', 'Founders Pavilion',\n",
       "       'Hornell Gardens, LLC', 'Steuben County Infirmary',\n",
       "       'Berkshire Nursing & Rehabilitation  Center',\n",
       "       'Broadlawn Manor Nursing & Rehab Center',\n",
       "       'Suffolk Center for Rehabilitation and Nursing',\n",
       "       'San Simeon By the Sound Center for Nursing&Rehabilitation',\n",
       "       'Waters Edge at Port Jefferson for Rehabilitation and Nursing',\n",
       "       'John J Foley Skilled Nursing Fac', 'Woodhaven Nursing Home',\n",
       "       'Oak Hollow Nursing Center', 'Cedar Lodge Nursing Home',\n",
       "       'Lakeview Rehabilitation and Care Center',\n",
       "       'Hilaire Rehab & Nursing', 'Apex Rehabilitation & Care Center',\n",
       "       'Carillon Nursing and Rehabilitation Center',\n",
       "       'Sunrise Manor Center for Nursing and Rehabilitation',\n",
       "       'Ross Health Care Center',\n",
       "       'Momentum at South Bay for Rehabilitation and Nursing',\n",
       "       'Our Lady of Consolation Nursing and Rehabilitative Care Center',\n",
       "       'Riverhead Care Center, LLC',\n",
       "       'Avalon Gardens Rehabilitation & Health Care Center, Inc',\n",
       "       'St. James Rehabilitation & Healthcare Center',\n",
       "       'St Johnland Nursing Center, Inc',\n",
       "       'Mills Pond Nursing and Rehabilitation Center',\n",
       "       'Achieve Rehab and Nursing Facility',\n",
       "       'Sullivan County Adult Care Center',\n",
       "       'Roscoe Regional Rehabilitation & Residential Health Care Facility',\n",
       "       'Elderwood at Waverly', 'Riverview Manor Health Care Center',\n",
       "       'Oak Hill Manor Nursing Home', 'Beechtree Care Center',\n",
       "       'Cayuga Ridge Extened Care', 'Golden Hill Health Care Center',\n",
       "       'The Mountain View Nursing and Rehabilitation Centre',\n",
       "       'Hudson Valley Rehabilitation & Extended Care Center',\n",
       "       'Westmount Health Facility',\n",
       "       'The Stanton Nursing and Rehabilitation Centre',\n",
       "       'The Pines at Glens Falls Center for Nursing & Rehabilitation',\n",
       "       'Adirondack Tri-County Nursing and Rehabilitation Center, Inc',\n",
       "       'Fort Hudson Nursing Center, Inc.',\n",
       "       'Indian River Rehabilitation and Nursing Center',\n",
       "       'Pleasant Valley', 'Wayne Health Care',\n",
       "       'Newark Manor Nursing Home Inc',\n",
       "       'Gowanda Rehabilitation and Nursing Center',\n",
       "       'Wayne County Nursing Home', 'Blossom View Nursing Home',\n",
       "       'Cortlandt Healthcare LLC',\n",
       "       'West Ledge Rehabilitation and Nursing Center',\n",
       "       'TLC Health Network Lake Shore Hosp Nursing Facility',\n",
       "       'Nathan Miller Center for Nursing Care',\n",
       "       'White Plains Center for Nursing Care, LLC',\n",
       "       'Schnurmacher Center for Rehabilitation and Nursing',\n",
       "       'The Wartburg Home',\n",
       "       'Westchester Center for Rehabilitation & Nursing',\n",
       "       'Bayberry Nursing Home', 'United Hebrew Geriatric Center',\n",
       "       'Glen Island Center for Nursing and Rehabilitation',\n",
       "       'Sutton Park Center for Nursing and Rehabilitation',\n",
       "       'Helen and Michael Schaffer Extended Care Center',\n",
       "       'Cedar Manor Nursing & Rehabilitation Center',\n",
       "       'Bethel Nursing Home Company Inc', 'Victoria Home',\n",
       "       'King Street Home Inc', 'Port Chester Nursing & Rehab Centre',\n",
       "       'Regency Extended Care Center',\n",
       "       'Sans Souci Rehabilitation and Nursing Center',\n",
       "       'Home for Aged Blind',\n",
       "       'St Josephs Hosp Nursing Home of Yonkers N Y Inc',\n",
       "       'Jewish Home Lifecare, Sarah Neuman Center, Westchester',\n",
       "       'Sprain Brook Manor Rehab', 'Tarrytown Hall Care Center',\n",
       "       'Sky View Rehabilitation and Health Care Center, LLC',\n",
       "       'St Cabrini Nursing Home', 'Andrus On Hudson',\n",
       "       'Elant at Brandywine, Inc', 'The Osborn', 'Rosary Hill Home',\n",
       "       'Waterview Hills Rehabilitation and Nursing Center',\n",
       "       \"Sunshine Children's Home and Rehab Center \",\n",
       "       'Somers Manor Nursing Home Inc',\n",
       "       'North Westchester Restorative Therapy and Nursing Center',\n",
       "       'Wyoming County Community Hospital SNF', 'East Side Nursing Home',\n",
       "       'Soldiers and Sailors Memorial Hospital Extended Care Unit',\n",
       "       'Penn Yan Manor Nursing Home Inc',\n",
       "       'Hebrew Home for the Aged at Riverdale', 'Providence Rest, Inc.',\n",
       "       'St Patricks Home', 'Beth Abraham Health Services',\n",
       "       \"Workmen's Circle Multicare Center\",\n",
       "       'Methodist Home for Nursing and Rehabilitation',\n",
       "       'Jeanne Jugan Residence', 'Rebekah Rehab and Extended Care Center',\n",
       "       'Schervier Nursing Care Center',\n",
       "       'Jewish Home Lifecare, Harry & Jeanette Weinberg Campus, Bronx',\n",
       "       'Gold Crest Care Center',\n",
       "       'Bainbridge Nursing & Rehabilitation Center',\n",
       "       'Eastchester Rehabilitation and Health Care Center',\n",
       "       'Hudson Pointe at Riverdale Center for Nursing&Rehabilitation',\n",
       "       'Fieldston Lodge Care Center',\n",
       "       'Kingsbridge Heights Rehabilitation and Care Center',\n",
       "       'Morris Park Nursing Home',\n",
       "       'Mosholu Parkway Nursing & Rehabilitation Center',\n",
       "       'Park Gardens Rehabilitation & Nursing Center LLC',\n",
       "       'Riverdale Nursing Home', 'Regeis Care Center',\n",
       "       'Split Rock Rehabilitation and Health Care Center',\n",
       "       'University Nursing Home',\n",
       "       'Pelham Parkway Nursing Care and Rehabilitation Facility LLC',\n",
       "       'Bronx Park Rehabilitation & Nursing Center',\n",
       "       'Williamsbridge Manor Nursing Home', 'Laconia Nursing Home',\n",
       "       'Daughters of Jacob Nursing Home Company Inc',\n",
       "       'Kings Harbor Multicare Center',\n",
       "       'Bronx Center for Rehabilitation & Health Care',\n",
       "       'Morningside House Nursing Home Company Inc',\n",
       "       'Concourse Rehabilitation and Nursing Center, Inc',\n",
       "       'Palisade Nursing Home Company Inc',\n",
       "       'Bethany Nursing Home & Health Related Facility Inc',\n",
       "       'Wayne Center for Nursing & Rehabilitation',\n",
       "       'Terrace Health Care Center',\n",
       "       'Bay Park Center for Nursing and Rehabilitation, LLC',\n",
       "       'East Haven Nursing & Rehabilitation Center',\n",
       "       'Rutland Nursing Home Co Inc', 'Haym Solomon Home for the Aged',\n",
       "       'Sephardic Nursing & Rehabilitation Center',\n",
       "       'Wartburg Nursing Home Inc', 'Cabs Nursing Home Company Inc',\n",
       "       'Brooklyn United Methodist Church Home',\n",
       "       'NY Congregational Nursing Center, Inc', 'Kateri Residence',\n",
       "       'Lutheran Augustana Center for Extended Care & Rehabilitation, Inc',\n",
       "       'Shorefront Jewish Geriatric Center',\n",
       "       'Norwegian Christian Home and Health Center',\n",
       "       'Schulman and Schachne Institute for Nursing And Rehabilitation',\n",
       "       'Williamsville Suburban LLC',\n",
       "       'New Carlton Rehab and Nursing Center, LLC',\n",
       "       'Caton Park Nursing Home', 'Cobble Hill Health Center, Inc',\n",
       "       'Crown Nursing & Rehab Center', 'Oxford Nursing Home',\n",
       "       'Palm Gardens Center for Nursing and Rehabilitation',\n",
       "       'The Heritage Rehabilitation and Health Care Center',\n",
       "       'Brooklyn Center for Rehabilitation and Residential Health Care',\n",
       "       'Sheepshead Nursing & Rehabilitation Center',\n",
       "       'Shoreview Nursing Home',\n",
       "       'Spring Creek Rehabilitation & Nursing Care Center',\n",
       "       'Sea-Crest Health Care Center',\n",
       "       'Boro Park Center for Rehabilitation and Healthcare',\n",
       "       'Concord Nursing Home Inc',\n",
       "       'Atlantis Rehabilitation and Residential Health Care Facility',\n",
       "       'Bensonhurst Center for Rehabilitation and Healthcare',\n",
       "       'Marcus Garvey Nursing Home Company Inc',\n",
       "       'Center for Nursing & Rehabilitation Inc',\n",
       "       'Keser Nursing and Rehabilitation Center, Inc.',\n",
       "       'River Manor Care Center', 'Isabella Geriatric Center Inc',\n",
       "       'Mary Manning Walsh Nursing Home Co Inc',\n",
       "       'Bialystoker Center for Nursing & Rehabilitation',\n",
       "       'Ditmas Park Care Center', 'New East Side Nursing Home',\n",
       "       'Cabrini Center for  Nursing & Rehab',\n",
       "       'Dewitt Rehabilitation and Nursing Center Inc.',\n",
       "       'North Gate Health Care Facility',\n",
       "       'Fort Tryon Center for Rehabilitation and Nursing',\n",
       "       'VillageCare Rehabilitation and Nursing Center',\n",
       "       'Coler-Goldwater Spec Hosp&Nurs Fac Coler Nursing Facility Site',\n",
       "       'Coler-Goldwater Spec Hosp&Nurs Fac Goldwater Nursing Facility Site',\n",
       "       'Jewish Home Lifecare, Manhattan',\n",
       "       'Greater Harlem Nursing Home Company Inc',\n",
       "       'Amsterdam Nursing Home Corp (1992)',\n",
       "       'New Gouverneur Hospital SNF',\n",
       "       'Absolut Center for Nursing and Rehabilitation at Three Rivers, LLC',\n",
       "       'St Marys Hospital for Children Inc', 'Rockaway Care Center',\n",
       "       'Queen of Peace Residence',\n",
       "       'Margaret Tietz Center for Nursing Care Inc',\n",
       "       'Ozanam Hall of Queens Nursing Home Inc',\n",
       "       'Parker Jewish Institute for Health Care & Rehab',\n",
       "       'Peninsula Center for Extended Care and Rehabilitation',\n",
       "       'Bridge View Nursing Home',\n",
       "       'Queens Center for Rehabilitation & Residential Health Care',\n",
       "       'Cliffside Rehabilitation & Residential Health Care Center',\n",
       "       'Waterview Nursing Care Center',\n",
       "       'Fairview Nursing Care Center Inc', 'Far Rockaway Nursing Home',\n",
       "       'Flushing Manor Nursing Home', 'Forest Hills Care Center',\n",
       "       'Forest View Center for Rehabilitation & Nursing',\n",
       "       'Long Island Care Center Inc',\n",
       "       'Meadow Park Rehabilitation and Health Care Center LLC',\n",
       "       'Oceanview Nursing & Rehabilitation Center, LLC',\n",
       "       'Park Nursing Home',\n",
       "       'Promenade Rehabilitation and Health Care Center',\n",
       "       'Rego Park Nursing Home', 'Resort Nursing Home',\n",
       "       'New Glen Oaks Nursing Home, Inc', 'Park Terrace Care Center',\n",
       "       'Windsor Park Nursing Home',\n",
       "       'Woodcrest Rehabilitation & Residential Health Care Center., LLC',\n",
       "       'Little Neck Nursing Home',\n",
       "       'Queens Nassau Rehabilitation and Nursing Center',\n",
       "       'Brookhaven Rehabilitation & Health Care Center LLC',\n",
       "       'Midway Nursing Home', 'Dry Harbor Nursing Home',\n",
       "       'Lawrence Nursing Care Center, Inc',\n",
       "       'Franklin Center for Rehabilitation and Nursing',\n",
       "       'Flushing Manor Care Center',\n",
       "       'Jamaica Hospital Nursing Home Co Inc', 'Highland Care Center',\n",
       "       'Holliswood Center for Rehabilitation and Healthcare',\n",
       "       'Hillside Manor Rehab & Extended Care Center',\n",
       "       'Chapin Home for the Aging', 'West Lawrence Care Center, LLC',\n",
       "       'Horizon Care Center', 'Beacon Rehabilitation and Nursing Center',\n",
       "       'Erie County Medical Center-SNF',\n",
       "       'Eger Health Care and Rehabilitation Center',\n",
       "       'Sea View Hospital, Rehabilitation Center and Home',\n",
       "       'Clove Lakes Health Care and Rehabilitation Center, Inc',\n",
       "       'Lily Pond Nursing Home',\n",
       "       'New Vanderbilt Rehabilitation and Care Center, Inc',\n",
       "       'Silver Lake Specialized Rehabilitation and Care Center',\n",
       "       'Verrazano Nursing Home',\n",
       "       'Carmel Richmond Healthcare and Rehabilitation Center',\n",
       "       'Staten Island Care Center',\n",
       "       'Golden Gate Rehabilitation & Health Care Center',\n",
       "       'Middletown Park Rehabilitation & Health Care Center',\n",
       "       'Menorah Home & Hospital for Aged & Infirm',\n",
       "       'Campbell Hall Rehabilitation Center Inc',\n",
       "       'Groton Community Health Care Center Residential Care Facility',\n",
       "       'Heritage Green Nursing Home',\n",
       "       'Dumont Center for Rehabilitation and Nursing Care',\n",
       "       'Millard Fillmore Skilled Nursing Facility',\n",
       "       'Wellsville Manor Care Center', 'Elderwood at Williamsville',\n",
       "       'Autumn View Health Care Facility, LLC',\n",
       "       'Leroy Village Green Residential Health Care Facility, Inc',\n",
       "       'Delaware Nursing & Rehabilitation Center',\n",
       "       'Good Samaritan Nursing Home',\n",
       "       'The Crossings Nursing and Rehabilitation Centre',\n",
       "       'Ridge View Manor LLC',\n",
       "       'Terence Cardinal Cooke Health Care Center',\n",
       "       'Bezalel Rehabilitation and Nursing Center', 'Kirkhaven',\n",
       "       'Valley Health Services Inc',\n",
       "       'Highpointe on Michigan Health Care Facility',\n",
       "       'Cayuga County Nursing Home',\n",
       "       'Four Seasons Nursing and Rehabilitation Center',\n",
       "       'Nesconset Center for Nursing and Rehabilitation',\n",
       "       'James G Johnston Memorial Nursing Home', 'Elderwood at Liverpool',\n",
       "       'Haven Manor Health Care Center,LLC',\n",
       "       'Hollis Park Manor Nursing Home',\n",
       "       'James A Eddy Memorial Geriatric Center', 'Elderwood at Hamburg',\n",
       "       'East Neck Nursing & Rehabilitation Center',\n",
       "       'Absolut Center for Nursing and Rehabilitation at Westfield, LLC',\n",
       "       'Jewish Home of Rochester', 'Unity Living Center',\n",
       "       'Bishop Charles Waldo Maclean Episcopal Nursing Home',\n",
       "       'Elant at Goshen, Inc.', 'Long Island State Veterans Home',\n",
       "       'St Catherine of Siena Nursing and Rehabilitation Care Center',\n",
       "       'Bellhaven Center for Rehabilitation and Nursing Care',\n",
       "       'Smithtown Center for Rehabilitation & Nursing Care',\n",
       "       'Harris Hill Nursing Facility, LLC', 'Field Home-Holy Comforter',\n",
       "       'Salem Hills Rehabilitation and Nursing Center',\n",
       "       'Peconic Bay Skilled Nursing Facility',\n",
       "       'White Oaks Rehabilitation and Nursing Center',\n",
       "       'Mcauley Manor at Mercycare',\n",
       "       'Absolut Center for Nursing and Rehabilitation at Dunkirk, LLC',\n",
       "       'Absolut Center for Nursing and Rehabilitation at Eden, LLC',\n",
       "       'St. Josephs Place', 'Rosewood Rehabilitation and Nursing Center',\n",
       "       'Brookhaven Health Care Facility, LLC',\n",
       "       'New Surfside Nursing Home, LLC',\n",
       "       'Elizabeth Seton Pediatric Center',\n",
       "       'Gurwin Jewish Nursing and Rehabilitation Center',\n",
       "       'Manhattanville Health Care Center', 'Eddy Village Green',\n",
       "       'Bushwick Center for Rehabilitation and Health Care',\n",
       "       'Orzac Center for Extended Care & Rehabilitation',\n",
       "       'North Shore Univ Hosp Stern Family Center for Extended Care&Rehab',\n",
       "       'Pathways Nursing and Rehabilitation Center',\n",
       "       'St Johnsville Rehabilitation and Nursing Center',\n",
       "       'Ellis Residential & Rehabilitation Center',\n",
       "       'Ira Davenport Memorial Hospital SNF/HRF', 'St Francis of Buffalo',\n",
       "       'The Orchard Nursing and Rehabilitation Centre',\n",
       "       'Hamilton Park Nursing and Rehabilitation Center',\n",
       "       'Huntington Living Center', 'Syracuse Home Association',\n",
       "       'Highbridge-Woodycrest Center Inc', 'Help/PSI, Inc.',\n",
       "       'Silvercrest',\n",
       "       'Saints Joachim & Anne Nursing and Rehabilitation Center',\n",
       "       'Elderwood at Cheektowaga', 'Crouse Community Center Inc',\n",
       "       'Bronx Lebanon Special Care Center',\n",
       "       'Norwich Rehabilitation & Nursing Center', 'St Marys Center Inc',\n",
       "       'St Vincent Depaul Residence',\n",
       "       'Eddy Heritage House Nursing and Rehabilitation Center',\n",
       "       'Whittier Rehabilitation & Skilled Nursing Center',\n",
       "       'Petite Fleur Nursing Home', 'Iroquois Nursing Home Inc',\n",
       "       'Ten Broeck Commons', 'Our Lady of Mercy Life Center',\n",
       "       'Rosa Coplon Jewish Home and Infirmary',\n",
       "       'Cortland Regional Nursing and Rehabilitation Center',\n",
       "       'The Robert Mapplethorpe Residential Treatment Facility A.N.',\n",
       "       'Edna Tina Wilson Living Center',\n",
       "       'Throgs Neck Extended Care Facility', 'NYS Veterans Home In NYC',\n",
       "       'Richmond Center for Rehabilitation and Specialty Healthcare',\n",
       "       'Seton Health at Schuyler Ridge Residential Healthcare',\n",
       "       'St Barnabas Rehabilitation & Continuing Care Center',\n",
       "       'Father Baker Manor', 'The Highlands at Brighton',\n",
       "       'Hopkins Center for Rehabilitation and Healthcare', 'Casa Promesa',\n",
       "       'Rivington House-The Nicholas A Rango Health Care Facility',\n",
       "       'Westhampton Care Center', 'Schervier Pavilion',\n",
       "       'Nassau Extended Care Facility', 'Finger Lakes Center for Living',\n",
       "       'Highlands Living Center', 'Western New York State Veterans Home',\n",
       "       'Wingate of Dutchess', 'Elderwood at Wheatfield',\n",
       "       'Focus Rehabilitation and Nursing Center at Utica',\n",
       "       'Queens Boulevard Ecf, Inc', 'Kendal at Ithaca',\n",
       "       'Northern Manhattan Rehabilitation and Nursing Center',\n",
       "       'Meadowbrook Care Center, Inc', 'Union Plaza Care Center',\n",
       "       'Townhouse Center for Rehabilitation & Nursing', \"St Luke's Home\",\n",
       "       'Nottingham RCHF', 'Helen Hayes Hospital RHCF',\n",
       "       'Incarnation Childrens Center Inc', 'Putnam Ridge',\n",
       "       'River Valley Care Center Inc', 'Wingate at Beacon',\n",
       "       'Buena Vida Continuing Care & Rehab Center',\n",
       "       'Michael Malotz Skilled Nursing Pavilion',\n",
       "       'New York State Veterans Home at Montrose',\n",
       "       'Fulton Commons Care Center Inc', \"Jefferson's Ferry\",\n",
       "       'Island Nursing and Rehab Center', 'Maria Regina Residence Inc',\n",
       "       'New York Center for Rehabilitation & Nursing',\n",
       "       'Affinity Skilled Living and Rehabilitation Center',\n",
       "       'Medford Multicare Center for Living',\n",
       "       'Peconic Landing at Southold', 'Westchester Meadows',\n",
       "       'Our Lady of Peace Nursing Care Residence', 'Kendal On Hudson',\n",
       "       'The Hamptons Center for Rehabilitation and Nursing',\n",
       "       'Glen Arden Inc', 'Wingate of Ulster',\n",
       "       'Bishop Henry B. Hucles Episcopal Nursing Home',\n",
       "       'Evergreen Commons', 'Bethel Nursing & Rehabilitation Center',\n",
       "       'Dr Susan Smith Mckinney Nursing and Rehabilitation Center',\n",
       "       'Dr William O Benenson Rehab Pavilion',\n",
       "       'Hebrew Hospital Home of Westchester Inc',\n",
       "       'Lutheran Center at Poughkeepsie, Inc',\n",
       "       'Linden Gardens Rehabilitation and Nursing Center',\n",
       "       'Greenfield Health & Rehab Center', 'Seneca Hill Manor Inc',\n",
       "       'Elmhurst Care Center, Inc', 'Northeast Center for Special Care',\n",
       "       'Huntington Hills Center for Health and Rehabilitation',\n",
       "       'Canterbury Woods', 'Park Avenue Extended Care Facility',\n",
       "       'Regal Heights Rehabilitation and Health Care Center',\n",
       "       'Fox Run at Orchard Park', 'Good Shepherd Village at Endwell',\n",
       "       'Woodland Pond at New Paltz', 'The Amsterdam at Harborside',\n",
       "       'Eddy Village Green at Beverwyck'], dtype=object)"
      ]
     },
     "execution_count": 24,
     "metadata": {},
     "output_type": "execute_result"
    }
   ],
   "source": [
    "# a. Choose a nursing home (\"Facility\"),\n",
    "# and subset the data by that nursing home. Answer the following using Pandas.\n",
    "# unique() gives me a unique value of a specific column:\n",
    "df['FACILITY NAME'].unique()"
   ]
  },
  {
   "cell_type": "code",
   "execution_count": 25,
   "metadata": {},
   "outputs": [],
   "source": [
    "# filter and create sub_df of 'St Margarets Center'\n",
    "input_facility_name = 'St Margarets Center'\n",
    "st_margarets_center_df =\\\n",
    "    df.loc[\n",
    "        df['FACILITY NAME'] == input_facility_name]"
   ]
  },
  {
   "cell_type": "markdown",
   "metadata": {},
   "source": [
    "####  count of how many censuses were reported"
   ]
  },
  {
   "cell_type": "code",
   "execution_count": 26,
   "metadata": {},
   "outputs": [
    {
     "name": "stdout",
     "output_type": "stream",
     "text": [
      "St Margarets Center has 207 censuses reported\n"
     ]
    }
   ],
   "source": [
    "print('{} has {} censuses reported'.format(\n",
    "        input_facility_name,\n",
    "        str(st_margarets_center_df.shape[0])\n",
    "    )\n",
    ")"
   ]
  },
  {
   "cell_type": "markdown",
   "metadata": {},
   "source": [
    "#### the earliest/latest census date:"
   ]
  },
  {
   "cell_type": "code",
   "execution_count": 27,
   "metadata": {},
   "outputs": [
    {
     "name": "stdout",
     "output_type": "stream",
     "text": [
      "object\n"
     ]
    },
    {
     "data": {
      "text/plain": [
       "Timestamp('2013-08-07 00:00:00')"
      ]
     },
     "execution_count": 27,
     "metadata": {},
     "output_type": "execute_result"
    }
   ],
   "source": [
    "# BED CENSUS DATE should have the census data data:\n",
    "# let's check the data type of that columns\n",
    "print(st_margarets_center_df['BED CENSUS DATE'].dtype)\n",
    "# we need to parse it as a pd.DateTime object (let's do it just on one value)\n",
    "pd.to_datetime(st_margarets_center_df['BED CENSUS DATE'].iloc[0])"
   ]
  },
  {
   "cell_type": "code",
   "execution_count": 28,
   "metadata": {},
   "outputs": [
    {
     "name": "stderr",
     "output_type": "stream",
     "text": [
      "/opt/tljh/user/lib/python3.7/site-packages/ipykernel_launcher.py:3: SettingWithCopyWarning: \n",
      "A value is trying to be set on a copy of a slice from a DataFrame.\n",
      "Try using .loc[row_indexer,col_indexer] = value instead\n",
      "\n",
      "See the caveats in the documentation: https://pandas.pydata.org/pandas-docs/stable/user_guide/indexing.html#returning-a-view-versus-a-copy\n",
      "  This is separate from the ipykernel package so we can avoid doing imports until\n"
     ]
    }
   ],
   "source": [
    "# let's transform all the dates:\n",
    "st_margarets_center_df['BED CENSUS DATE'] =\\\n",
    "    st_margarets_center_df['BED CENSUS DATE'].apply(lambda x: pd.to_datetime(x))"
   ]
  },
  {
   "cell_type": "code",
   "execution_count": 29,
   "metadata": {},
   "outputs": [
    {
     "data": {
      "text/plain": [
       "Timestamp('2009-04-08 00:00:00')"
      ]
     },
     "execution_count": 29,
     "metadata": {},
     "output_type": "execute_result"
    }
   ],
   "source": [
    "# get the earliest data:\n",
    "st_margarets_center_df['BED CENSUS DATE'].min()"
   ]
  },
  {
   "cell_type": "code",
   "execution_count": 30,
   "metadata": {},
   "outputs": [
    {
     "data": {
      "text/plain": [
       "Timestamp('2013-08-07 00:00:00')"
      ]
     },
     "execution_count": 30,
     "metadata": {},
     "output_type": "execute_result"
    }
   ],
   "source": [
    "# get the latest data:\n",
    "st_margarets_center_df['BED CENSUS DATE'].max()"
   ]
  },
  {
   "cell_type": "markdown",
   "metadata": {},
   "source": [
    "#### The ten census dates with the highest number of available beds for that nursing home"
   ]
  },
  {
   "cell_type": "code",
   "execution_count": 31,
   "metadata": {},
   "outputs": [
    {
     "name": "stdout",
     "output_type": "stream",
     "text": [
      "336    29\n",
      "339    28\n",
      "333    27\n",
      "338    27\n",
      "330    27\n",
      "       ..\n",
      "406     0\n",
      "405     0\n",
      "404     0\n",
      "425     0\n",
      "426     0\n",
      "Name: AVAILABLE RESIDENTIAL BEDS, Length: 207, dtype: int64\n"
     ]
    }
   ],
   "source": [
    "# AVAILABLE RESIDENTIAL BEDS has the info of available bed:\n",
    "# let's rank them (high to low):\n",
    "print(st_margarets_center_df['AVAILABLE RESIDENTIAL BEDS'].sort_values(ascending=False))\n",
    "# get the indices of the first 10 values:\n",
    "top_ten_idx =\\\n",
    "    st_margarets_center_df['AVAILABLE RESIDENTIAL BEDS'].sort_values(\n",
    "        ascending=False).head(10).index"
   ]
  },
  {
   "cell_type": "code",
   "execution_count": 32,
   "metadata": {},
   "outputs": [
    {
     "data": {
      "text/plain": [
       "336   2011-01-05\n",
       "339   2010-12-15\n",
       "333   2011-01-26\n",
       "338   2010-12-22\n",
       "330   2011-02-23\n",
       "341   2010-12-01\n",
       "332   2011-02-02\n",
       "335   2011-01-12\n",
       "334   2011-01-19\n",
       "331   2011-02-09\n",
       "Name: BED CENSUS DATE, dtype: datetime64[ns]"
      ]
     },
     "execution_count": 32,
     "metadata": {},
     "output_type": "execute_result"
    }
   ],
   "source": [
    "# filter via index and get the dates (use .loc):\n",
    "st_margarets_center_df.loc[top_ten_idx]['BED CENSUS DATE']"
   ]
  },
  {
   "cell_type": "markdown",
   "metadata": {},
   "source": [
    "# BREAK (10 min)"
   ]
  },
  {
   "cell_type": "markdown",
   "metadata": {},
   "source": [
    "# 3rd Hour: Statistics as a Data Science Building Block (show using matplotlib)"
   ]
  },
  {
   "cell_type": "markdown",
   "metadata": {},
   "source": [
    "## I. Stats Intro / Basics:\n",
    "* What is statistics?\n",
    "    * \"The practice or science of collecting and analyzing numerical data in large quantities, especially for the purpose of inferring proportions in a whole from those in a representative sample.\"\n",
    "* How have we used it before big data tech? \n",
    "    * On smaller sets of data\n",
    "    * Historical usecases:\n",
    "        * Scientific Experiments\n",
    "        * Polling\n",
    "        * Gambling (cheating)"
   ]
  },
  {
   "cell_type": "code",
   "execution_count": 33,
   "metadata": {},
   "outputs": [
    {
     "data": {
      "text/plain": [
       "10.818924261339992"
      ]
     },
     "execution_count": 33,
     "metadata": {},
     "output_type": "execute_result"
    }
   ],
   "source": [
    "# mean:\n",
    "df['AVAILABLE RESIDENTIAL BEDS'].mean()"
   ]
  },
  {
   "cell_type": "code",
   "execution_count": 34,
   "metadata": {},
   "outputs": [
    {
     "data": {
      "text/plain": [
       "7.0"
      ]
     },
     "execution_count": 34,
     "metadata": {},
     "output_type": "execute_result"
    }
   ],
   "source": [
    "# median:\n",
    "df['AVAILABLE RESIDENTIAL BEDS'].median()"
   ]
  },
  {
   "cell_type": "code",
   "execution_count": 35,
   "metadata": {},
   "outputs": [
    {
     "data": {
      "text/plain": [
       "0    3\n",
       "dtype: int64"
      ]
     },
     "execution_count": 35,
     "metadata": {},
     "output_type": "execute_result"
    }
   ],
   "source": [
    "# median:\n",
    "df['AVAILABLE RESIDENTIAL BEDS'].mode()"
   ]
  },
  {
   "cell_type": "code",
   "execution_count": 36,
   "metadata": {},
   "outputs": [
    {
     "data": {
      "text/plain": [
       "3      8895\n",
       "2      8858\n",
       "4      8582\n",
       "1      7998\n",
       "5      7850\n",
       "       ... \n",
       "212       1\n",
       "276       1\n",
       "213       1\n",
       "341       1\n",
       "255       1\n",
       "Name: AVAILABLE RESIDENTIAL BEDS, Length: 253, dtype: int64"
      ]
     },
     "execution_count": 36,
     "metadata": {},
     "output_type": "execute_result"
    }
   ],
   "source": [
    "# confirm median calculation via value_counts()\n",
    "df['AVAILABLE RESIDENTIAL BEDS'].value_counts()"
   ]
  },
  {
   "cell_type": "markdown",
   "metadata": {},
   "source": [
    "#### Questions ####\n",
    "\n",
    "* What stories do mean, median, and mode tell you? \n",
    "* How are they different from one another?\n",
    "* When will each of them be useful?\n",
    "* Name a situation where the mean is insightful\n",
    "* Name a situation where the median is insightful\n",
    "* Name a situation where the mode is insightfu"
   ]
  },
  {
   "cell_type": "markdown",
   "metadata": {},
   "source": [
    "## 2. Sampling from Population:\n",
    "\n",
    "* What is a __data population__?\n",
    "* What is a __data sample of a population__?\n",
    "* When is a __data sample__ valid?\n",
    "* When is a __data sample__ not valid?\n",
    "* How is sampling the __first step__ of data science?\n",
    "* What are some __real life sampling problems__? Give some examples."
   ]
  },
  {
   "cell_type": "code",
   "execution_count": 37,
   "metadata": {},
   "outputs": [],
   "source": [
    "# let's use the 'random' package to sample:\n",
    "import random\n",
    "\n",
    "sample_available_residential_beds =\\\n",
    "    random.sample(list(df['AVAILABLE RESIDENTIAL BEDS'].values), 1000)"
   ]
  },
  {
   "cell_type": "code",
   "execution_count": 38,
   "metadata": {},
   "outputs": [
    {
     "name": "stdout",
     "output_type": "stream",
     "text": [
      "10.392\n",
      "10.818924261339992\n"
     ]
    }
   ],
   "source": [
    "# check the two different means:\n",
    "print(np.array(sample_available_residential_beds).mean())\n",
    "print(df['AVAILABLE RESIDENTIAL BEDS'].mean())"
   ]
  },
  {
   "cell_type": "markdown",
   "metadata": {},
   "source": [
    "What are the risks when we only check/compare the means of population/sample?"
   ]
  },
  {
   "cell_type": "markdown",
   "metadata": {},
   "source": [
    "## 3. Intro to matplotlib (plotting a histogram!)\n",
    "\"Matplotlib is a plotting library for the Python programming language and its numerical mathematics extension NumPy.\""
   ]
  },
  {
   "cell_type": "code",
   "execution_count": 39,
   "metadata": {},
   "outputs": [],
   "source": [
    "# import matplotlib\n",
    "import matplotlib.pyplot as plt\n",
    "# magic function that makes the graph show in the cell:\n",
    "%matplotlib inline  \n",
    "# matplotlib style sheets:\n",
    "plt.style.use('ggplot')\n",
    "# other cool style sheets:\n",
    "# https://matplotlib.org/3.1.1/gallery/style_sheets/style_sheets_reference.html"
   ]
  },
  {
   "cell_type": "markdown",
   "metadata": {},
   "source": [
    "#### What is a histogram? #### \n",
    "\n",
    "\"A diagram consisting of rectangles whose area is proportional to the frequency of a variable and whose width is equal to the class interval.\"\n",
    "\n",
    "A histogram is a bars-based graph that shows the frequency of data sets' respective values.  Based on the size of the bins (how the chart bundles the values) the look of the graph can be different. \n",
    "\n",
    "* X-axis: values of the data points\n",
    "* y-axis: frequency of the data\n",
    "\n",
    "The histogram of a dataset shows how the dataset is distributed (its \"distribution\")\n",
    "\n",
    "__Let's plot!__"
   ]
  },
  {
   "cell_type": "markdown",
   "metadata": {},
   "source": [
    "#### empty figure"
   ]
  },
  {
   "cell_type": "code",
   "execution_count": 40,
   "metadata": {},
   "outputs": [
    {
     "data": {
      "text/plain": [
       "<Figure size 1440x720 with 0 Axes>"
      ]
     },
     "execution_count": 40,
     "metadata": {},
     "output_type": "execute_result"
    },
    {
     "data": {
      "text/plain": [
       "<Figure size 1440x720 with 0 Axes>"
      ]
     },
     "metadata": {},
     "output_type": "display_data"
    }
   ],
   "source": [
    "# via matplotlib (plt):\n",
    "\n",
    "# creates a figure object with a size:\n",
    "plt.figure(figsize=(20, 10))"
   ]
  },
  {
   "cell_type": "markdown",
   "metadata": {},
   "source": [
    "#### just the histogram:"
   ]
  },
  {
   "cell_type": "code",
   "execution_count": 41,
   "metadata": {},
   "outputs": [
    {
     "data": {
      "image/png": "[encoded data removed]",
      "text/plain": [
       "<Figure size 432x288 with 1 Axes>"
      ]
     },
     "metadata": {},
     "output_type": "display_data"
    }
   ],
   "source": [
    "# plot the histogram (population of 'AVAILABLE RESIDENTIAL BEDS'):\n",
    "plt.hist(\n",
    "    # takes a pd.Series or list like array (not the frequency)\n",
    "    df['AVAILABLE RESIDENTIAL BEDS'],\n",
    "    # how many bins do we want?\n",
    "    bins=50,\n",
    "    # the color of the diagram\n",
    "    facecolor='green',\n",
    "    # make the diagram transparent (useful with overlaying multiple histograms)\n",
    "    alpha=0.75\n",
    ")\n",
    "# takes out printed results:\n",
    "plt.show()"
   ]
  },
  {
   "cell_type": "markdown",
   "metadata": {},
   "source": [
    "#### add figure size"
   ]
  },
  {
   "cell_type": "code",
   "execution_count": 42,
   "metadata": {},
   "outputs": [
    {
     "data": {
      "image/png": "[encoded data removed]",
      "text/plain": [
       "<Figure size 1440x720 with 1 Axes>"
      ]
     },
     "metadata": {},
     "output_type": "display_data"
    }
   ],
   "source": [
    "# with figure size (must come first):\n",
    "plt.figure(figsize=(20, 10))\n",
    "plt.hist(\n",
    "    df['AVAILABLE RESIDENTIAL BEDS'],\n",
    "    bins=50,\n",
    "    facecolor='green',\n",
    "    alpha=0.75\n",
    ")\n",
    "plt.show()"
   ]
  },
  {
   "cell_type": "markdown",
   "metadata": {},
   "source": [
    "#### add x/y labels + title:"
   ]
  },
  {
   "cell_type": "code",
   "execution_count": 43,
   "metadata": {},
   "outputs": [
    {
     "data": {
      "image/png": "[encoded data removed]",
      "text/plain": [
       "<Figure size 1440x720 with 1 Axes>"
      ]
     },
     "metadata": {},
     "output_type": "display_data"
    }
   ],
   "source": [
    "plt.figure(figsize=(20, 10))\n",
    "plt.hist(\n",
    "    df['AVAILABLE RESIDENTIAL BEDS'],\n",
    "    bins=50,\n",
    "    facecolor='green',\n",
    "    alpha=0.75\n",
    ")\n",
    "# with x/y lables:\n",
    "plt.xlabel('AVAILABLE RESIDENTIAL BEDS')\n",
    "plt.ylabel('# of census')\n",
    "# with title:\n",
    "plt.title('Histogram: AVAILABLE RESIDENTIAL BEDS')\n",
    "plt.show()"
   ]
  },
  {
   "cell_type": "markdown",
   "metadata": {},
   "source": [
    "What kind of distribution is this? How does it look different from the \"common\" distributions that you have seen?"
   ]
  },
  {
   "cell_type": "code",
   "execution_count": 44,
   "metadata": {},
   "outputs": [
    {
     "data": {
      "image/png": "[encoded data removed]",
      "text/plain": [
       "<Figure size 432x288 with 1 Axes>"
      ]
     },
     "metadata": {},
     "output_type": "display_data"
    },
    {
     "data": {
      "image/png": "[encoded data removed]",
      "text/plain": [
       "<Figure size 1440x720 with 1 Axes>"
      ]
     },
     "metadata": {},
     "output_type": "display_data"
    }
   ],
   "source": [
    "# matplotlib is an odd package\n",
    "# what if you have the order mixed up?\n",
    "plt.hist(\n",
    "    df['AVAILABLE RESIDENTIAL BEDS'],\n",
    "    bins=50,\n",
    "    facecolor='green',\n",
    "    alpha=0.75\n",
    ")\n",
    "plt.figure(figsize=(20, 10))\n",
    "plt.xlabel('AVAILABLE RESIDENTIAL BEDS')\n",
    "plt.ylabel('# of census')\n",
    "plt.title('Histogram: AVAILABLE RESIDENTIAL BEDS')\n",
    "plt.show()"
   ]
  },
  {
   "cell_type": "markdown",
   "metadata": {},
   "source": [
    "#### plotting two histograms on the same figure object"
   ]
  },
  {
   "cell_type": "code",
   "execution_count": 45,
   "metadata": {},
   "outputs": [
    {
     "name": "stdout",
     "output_type": "stream",
     "text": [
      "['Countryside Care Center', 'Crown Center for Nursing and Rehabilitation']\n"
     ]
    }
   ],
   "source": [
    "# randomly sample two facility:\n",
    "facility_names = random.sample(list(df['FACILITY NAME'].unique()), 2)\n",
    "print(facility_names)"
   ]
  },
  {
   "cell_type": "code",
   "execution_count": 46,
   "metadata": {},
   "outputs": [
    {
     "name": "stdout",
     "output_type": "stream",
     "text": [
      "(150, 48)\n",
      "(123, 48)\n"
     ]
    }
   ],
   "source": [
    "# print shape of sub-df:\n",
    "print(df.loc[df['FACILITY NAME']==facility_names[0]].shape)\n",
    "print(df.loc[df['FACILITY NAME']==facility_names[1]].shape)"
   ]
  },
  {
   "cell_type": "code",
   "execution_count": 47,
   "metadata": {},
   "outputs": [
    {
     "data": {
      "image/png": "[encoded data removed]",
      "text/plain": [
       "<Figure size 1440x720 with 1 Axes>"
      ]
     },
     "metadata": {},
     "output_type": "display_data"
    }
   ],
   "source": [
    "# plot two histograms on the same figure object:\n",
    "plt.figure(figsize=(20, 10))\n",
    "# first histogram:\n",
    "plt.hist(\n",
    "    df.loc[df['FACILITY NAME']==facility_names[0]]['AVAILABLE RESIDENTIAL BEDS'],\n",
    "    bins=10,\n",
    "    facecolor='green',\n",
    "    alpha=0.75,\n",
    ")\n",
    "# second histogram:\n",
    "plt.hist(\n",
    "    df.loc[df['FACILITY NAME']==facility_names[1]]['AVAILABLE RESIDENTIAL BEDS'],\n",
    "    bins=10,\n",
    "    facecolor='red',\n",
    "    alpha=0.75,\n",
    ")\n",
    "plt.xlabel('AVAILABLE RESIDENTIAL BEDS')\n",
    "plt.ylabel('# of census')\n",
    "plt.title('Histogram: AVAILABLE RESIDENTIAL BEDS')\n",
    "plt.show()"
   ]
  },
  {
   "cell_type": "markdown",
   "metadata": {},
   "source": [
    "#### with legend"
   ]
  },
  {
   "cell_type": "code",
   "execution_count": 48,
   "metadata": {},
   "outputs": [
    {
     "data": {
      "image/png": "[encoded data removed]",
      "text/plain": [
       "<Figure size 1440x720 with 1 Axes>"
      ]
     },
     "metadata": {},
     "output_type": "display_data"
    }
   ],
   "source": [
    "plt.figure(figsize=(20, 10))\n",
    "plt.hist(\n",
    "    df.loc[df['FACILITY NAME']==facility_names[0]]['AVAILABLE RESIDENTIAL BEDS'],\n",
    "    bins=10,\n",
    "    facecolor='green',\n",
    "    alpha=0.75,\n",
    "    # this will label the histogram for the legend later\n",
    "    label=facility_names[0]\n",
    ")\n",
    "plt.hist(\n",
    "    df.loc[df['FACILITY NAME']==facility_names[1]]['AVAILABLE RESIDENTIAL BEDS'],\n",
    "    bins=10,\n",
    "    facecolor='red',\n",
    "    alpha=0.75,\n",
    "    # this will label the histogram for the legend later\n",
    "    label=facility_names[1]\n",
    ")\n",
    "plt.xlabel('AVAILABLE RESIDENTIAL BEDS')\n",
    "plt.ylabel('# of census')\n",
    "plt.title('Histogram: AVAILABLE RESIDENTIAL BEDS')\n",
    "# shows the legend:\n",
    "plt.legend()\n",
    "plt.show()"
   ]
  },
  {
   "cell_type": "markdown",
   "metadata": {},
   "source": [
    "# 4. Homework:\n",
    "* Walk through homework\n",
    "* Instructions:\n",
    "    * Step #1: Complete assignment \n",
    "    * Step #2: Download notebook (file > Download as > ipynb)\n",
    "    * Step #3: Email notebook to hsieh.ching.han@gmail.com\n",
    "        * Name your homework notebook in this format: __DS_course_homework_assignment#1_firstname_lastname.ipynb__\n",
    "        * Submit before class next week"
   ]
  },
  {
   "cell_type": "markdown",
   "metadata": {},
   "source": [
    "# 5. Conclusion:\n",
    "\n",
    "## Today's Recap:\n",
    "* What is Data Science / Use Cases\n",
    "* Type of Data Scientists\n",
    "* Intro to: Jupyter Notebook/pandas/matplotlib\n",
    "* Sampling\n",
    "* Distributions\n",
    "\n",
    "## Next Week:\n",
    "* Stats Deep Dive\n",
    "* You will be smarter than your professor in college after next week!\n",
    "\n",
    "## Q&A"
   ]
  }
 ],
 "metadata": {
  "kernelspec": {
   "display_name": "Python 3",
   "language": "python",
   "name": "python3"
  },
  "language_info": {
   "codemirror_mode": {
    "name": "ipython",
    "version": 3
   },
   "file_extension": ".py",
   "mimetype": "text/x-python",
   "name": "python",
   "nbconvert_exporter": "python",
   "pygments_lexer": "ipython3",
   "version": "3.7.7"
  }
 },
 "nbformat": 4,
 "nbformat_minor": 4
}
