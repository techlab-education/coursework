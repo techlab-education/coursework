{
 "cells": [
  {
   "cell_type": "raw",
   "metadata": {},
   "source": [
    "Notes/Hints/Tips:\n",
    "\n",
    "1. if name == \"main\":\n",
    "- This line in a python file (.py) makes a script both a py script and a 'package'\n",
    "\n",
    "2. you can import a python file (.py) into the ipynb as a 'package' (example below from importing statistics.py in this folder.\n",
    "\n",
    "3. When you edit the python file (.py) and re-import it in as a 'package', it will NOT overwrite the memory of previously imported content. Make sure to remove the hidden __pycache__ before re-importing.\n",
    "\n",
    "4. to remove the hidden __pycache__ run this line in the terminal (if you have trouble accessing the terminal via JupyterHub. Go to Week 1 Lecture. There is information there telling you how to open the terminal at the end of the pdf slides and the beginning of the ipynb lecture. Useful commands in the terminal:\n",
    "\n",
    "To see all files (with the hidden files) in a folder:\n",
    "ls -a\n",
    "To remove files (i.e. __pycache__)\n",
    "rm -r __pycache__\n",
    "\n",
    "5. the pickle package can be used to preserve python object (use with caution)\n",
    "\n",
    "6. read README.md in this folder for detailed hints/guides. In README.md, there are alternative instructions with how to present your homework (i.e., try out the function you write in the if name == \"main,\" instead of here in the analytic notebook. You can do either, but I like the ipynb approach (it is more annoying with the need to remove __pycache__ though).\n",
    "\n",
    "7. read statistics_review.ipynb for reference on statistics (you can also look at the lecture). Remember: google is your friend!"
   ]
  },
  {
   "cell_type": "code",
   "execution_count": null,
   "metadata": {},
   "outputs": [],
   "source": [
    "# import py file as a package (will not execute the code inside if __name__ == '__main__')\n",
    "import statistics as stats"
   ]
  },
  {
   "cell_type": "code",
   "execution_count": null,
   "metadata": {},
   "outputs": [],
   "source": [
    "# load the data:\n",
    "import pickle\n",
    "# loading funtion \n",
    "population = stats.load_pickle('population.pkl')"
   ]
  }
 ],
 "metadata": {
  "kernelspec": {
   "display_name": "Python 3",
   "language": "python",
   "name": "python3"
  },
  "language_info": {
   "codemirror_mode": {
    "name": "ipython",
    "version": 3
   },
   "file_extension": ".py",
   "mimetype": "text/x-python",
   "name": "python",
   "nbconvert_exporter": "python",
   "pygments_lexer": "ipython3",
   "version": "3.7.7"
  }
 },
 "nbformat": 4,
 "nbformat_minor": 4
}
