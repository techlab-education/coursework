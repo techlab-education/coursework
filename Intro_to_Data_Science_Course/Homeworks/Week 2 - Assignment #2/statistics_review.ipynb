{
 "cells": [
  {
   "cell_type": "markdown",
   "metadata": {},
   "source": [
    "# Population Mean\n",
    "<img src=\"imgs/pop_mean.gif\" alt=\"Drawing\" style=\"width: 200px;\"/>\n",
    "\n",
    "* Mean value of the whole population\n",
    "* Usually the true value is unknown\n",
    "* A value is hypothesized\n",
    "\n",
    "# Population Variance\n",
    "<img src=\"imgs/pop_variance.gif\" alt=\"Drawing\" style=\"width: 200px;\"/>\n",
    "\n",
    "* The spread of the population\n",
    "* Usually the true value is unknown\n",
    "* A value is hypothesized\n",
    "\n",
    "# Standard Deviation\n",
    "<img src=\"imgs/pop_sd.gif\" alt=\"Drawing\" style=\"width: 200px;\"/>\n",
    "\n",
    "* Square root of population variance\n",
    "\n",
    "# Sample Mean\n",
    "<img src=\"imgs/sam_mean.gif\" alt=\"Drawing\" style=\"width: 200px;\"/>\n",
    "\n",
    "* Mean value of a sample from the population\n",
    "\n",
    "# Sample Variance\n",
    "<img src=\"imgs/sam_variance.gif\" alt=\"Drawing\" style=\"width: 200px;\"/>\n",
    "\n",
    "* Mean spread of a sample from the population\n",
    "\n",
    "# Confidence Interval (applicable only for sample not population)\n",
    "<img src=\"imgs/confidence_interval.gif\" alt=\"Drawing\" style=\"width: 200px;\"/>\n",
    "\n",
    "* __s__ is the sample standard deviation (square root of sample variance)\n",
    "+/- <b>t<sub>(1+alpha)/2</sub></b> is the t-score at a certain confidence level\n",
    "in a t-distribution __(e.g. 1.96 at 95% confidence)__\n",
    "* t-score is generated from stats of a sampling operation\n",
    "* You can be 95% sure that the 95% CI (Confidence Interval) includes the true population value\n",
    "* Conversely if a value is outside of the 95% CI, you can be 95% sure that it is outside of the range of the population value\n",
    "\n",
    "# Interquartile Range\n",
    "<img src=\"imgs/interquartile_range.gif\" alt=\"Drawing\" style=\"width: 200px;\"/>\n",
    "\n",
    "* Q1 is the value at the 25<sup>th</sup> percentile of the distribution\n",
    "* Q2 is the value at the 25<sup>th</sup> percentile of the distribution\n",
    "* Q3 is the value at the 75<sup>th</sup> percentile of the distribution\n",
    "* The range in the mid-fifty percent of the distribution of values (See below)\n",
    "\n",
    "<img src=\"imgs/mid50.png\" alt=\"Drawing\" style=\"width: 500px;\"/>\n",
    "\n",
    "* IQR has a similar interpretation as standard deivation\n",
    "* IQR is less affected by the presence of extreme values compared to standard\n",
    "deviation"
   ]
  }
 ],
 "metadata": {
  "kernelspec": {
   "display_name": "Python 3",
   "language": "python",
   "name": "python3"
  },
  "language_info": {
   "codemirror_mode": {
    "name": "ipython",
    "version": 3
   },
   "file_extension": ".py",
   "mimetype": "text/x-python",
   "name": "python",
   "nbconvert_exporter": "python",
   "pygments_lexer": "ipython3",
   "version": "3.7.7"
  }
 },
 "nbformat": 4,
 "nbformat_minor": 4
}
